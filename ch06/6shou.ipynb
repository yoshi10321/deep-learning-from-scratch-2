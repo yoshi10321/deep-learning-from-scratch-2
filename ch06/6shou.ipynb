{
 "cells": [
  {
   "cell_type": "code",
   "execution_count": 1,
   "metadata": {
    "collapsed": true
   },
   "outputs": [
    {
     "data": {
      "text/plain": [
       "'/Users/a12711/Documents/ゼロから作るDeepLearning2/deep-learning-from-scratch-2-master'"
      ]
     },
     "execution_count": 1,
     "metadata": {},
     "output_type": "execute_result"
    }
   ],
   "source": [
    "import os\n",
    "os.chdir(\"/Users/a12711/Documents/ゼロから作るDeepLearning2/deep-learning-from-scratch-2-master\")\n",
    "os.getcwd()"
   ]
  },
  {
   "cell_type": "code",
   "execution_count": 7,
   "metadata": {},
   "outputs": [
    {
     "data": {
      "image/png": "[encoded data removed]",
      "text/plain": [
       "<Figure size 432x288 with 1 Axes>"
      ]
     },
     "metadata": {},
     "output_type": "display_data"
    }
   ],
   "source": [
    "import numpy as np\n",
    "import matplotlib.pyplot as plt\n",
    "\n",
    "N = 2\n",
    "H = 3\n",
    "T = 20\n",
    "\n",
    "dh = np.ones((N, H))\n",
    "np.random.seed(3)\n",
    "Wh = np.random.randn(H, H) * 0.5\n",
    "\n",
    "norm_list = []\n",
    "for t in range(T):\n",
    "    dh = np.dot(dh, Wh.T)\n",
    "    norm = np.sqrt(np.sum(dh**2)) / N\n",
    "    norm_list.append(norm)\n",
    "    \n",
    "plt.plot(np.arange(len(norm_list)), norm_list)\n",
    "plt.xticks([0, 4, 9, 14, 19], [1, 5, 10, 15, 20])\n",
    "plt.xlabel('time step')\n",
    "plt.ylabel('norm')\n",
    "plt.show()"
   ]
  },
  {
   "cell_type": "code",
   "execution_count": 10,
   "metadata": {},
   "outputs": [
    {
     "name": "stdout",
     "output_type": "stream",
     "text": [
      "before: [2.77977507 4.54622076 2.05410345 2.01378711 5.1403506  0.87229369\n 4.83585532 3.62176212 7.07686622]\nafter: [0.66651711 1.09006443 0.4925201  0.4828533  1.23252117 0.20915313\n 1.15951119 0.86840351 1.69684679]\n"
     ]
    }
   ],
   "source": [
    "import numpy as np\n",
    "\n",
    "\n",
    "dW1 = np.random.rand(3, 3) * 10\n",
    "dW2 = np.random.rand(3, 3) * 10\n",
    "grads = [dW1, dW2]\n",
    "max_norm = 5.0\n",
    "\n",
    "def clip_grads(grads, max_norm):\n",
    "    total_norm = 0\n",
    "    for grad in grads:\n",
    "        total_norm += np.sum(grad ** 2)\n",
    "    total_norm = np.sqrt(total_norm)\n",
    "    \n",
    "    rate = max_norm / (total_norm + 1e-6)\n",
    "    if rate < 1:\n",
    "        for grad in grads:\n",
    "            grad *= rate\n",
    "            \n",
    "print('before:', dW1.flatten())\n",
    "clip_grads(grads, max_norm)\n",
    "print('after:', dW1.flatten())"
   ]
  },
  {
   "cell_type": "code",
   "execution_count": 14,
   "metadata": {},
   "outputs": [],
   "source": [
    "class LSTM:\n",
    "    def __init__(self, Wx, Wh, b):\n",
    "        self.params = [Wx, Wh, b]\n",
    "        self.grads = [np.zeros_like(Wx), np.zeros_like(Wh), np.zeros_like(b)]\n",
    "        self.cache = None\n",
    "        \n",
    "    def forward(self, x, h_prev, c_prev):\n",
    "        Wx, Wh, b = self.params\n",
    "        N, H = h_prev.shape\n",
    "        \n",
    "        A = np.dot(x, Wx) + np.dot(h_prev, Wh) + b\n",
    "        \n",
    "        f = A[:, :H]\n",
    "        g = A[:, H:2*H]\n",
    "        i = A[:, 2*H:3*H]\n",
    "        o = A[:, 3*H:]\n",
    "        \n",
    "        f = sigmoid(f)\n",
    "        g = np.tanh(g)\n",
    "        i = sigmoid(i)\n",
    "        o = sigmoid(o)\n",
    "        \n",
    "        c_next = f * c_prev + g * i\n",
    "        h_next = o * np.tanh(c_next)\n",
    "        \n",
    "        self.cache = (x, h_prev, c_prev, i, f, g, o, c_next)\n",
    "        return h_next, c_next\n",
    "    \n",
    "        "
   ]
  },
  {
   "cell_type": "code",
   "execution_count": 15,
   "metadata": {},
   "outputs": [],
   "source": [
    "class TimeLSTM:\n",
    "    def __init__(self, Wx, Wh, b, stateful=False):\n",
    "        self.params = [Wx, Wh, b]\n",
    "        self.grads = [np.zeros_like(Wx), np.zeros_like(Wh), np.zeros_like(b)]\n",
    "        self.layers = None\n",
    "        \n",
    "        self.h, self.c = None, None\n",
    "        self.dh = None\n",
    "        self.stateful = stateful\n",
    "        \n",
    "    def forward(self, xs):\n",
    "        Wx, Wh, b = self.params\n",
    "        N, T, D = xs.shape\n",
    "        H = Wh.shape[0]\n",
    "        \n",
    "        self.layers = []\n",
    "        hs = np.empty((N, T, H), dtype='f')\n",
    "        \n",
    "        if not self.stateful or self.h is None:\n",
    "            self.h = np.zeros((N, H), dtype='f')\n",
    "        if not self.stateful or self.c is None:\n",
    "            self.c = np.zeros((N, H), dtype='f')\n",
    "            \n",
    "        for t in range(T):\n",
    "            layer = LSTM(*self.params)\n",
    "            self.h, self.c = layer.forward(xs[:, t, :], self.h, self.c)\n",
    "            hs[:, t, :] = self.h\n",
    "            \n",
    "            self.layers.append(layer)\n",
    "            \n",
    "        return hs\n",
    "    \n",
    "    def backward(self, dhs):\n",
    "        Wx, Wh, b = self.params\n",
    "        N, T, H = dhs.shape\n",
    "        D = Wx.shape[0]\n",
    "        \n",
    "        dxs = np.empty((N, T, D), dtype='f')\n",
    "        dh, dc = 0, 0\n",
    "        \n",
    "        grads = [0, 0, 0]\n",
    "        for t in reversed(range(T)):\n",
    "            layer = self.layers[t]\n",
    "            dx, dh, dc = layer.backward(dhs[:, t, :] + dh, dc)\n",
    "            dxs[:, t, :] = dx\n",
    "            for i, grad in enumerate(layer.grads):\n",
    "                grads[i] += grad\n",
    "                \n",
    "        for i, grad in enumerate(grads):\n",
    "            self.grads[i][...] = grad\n",
    "        self.dh = dh\n",
    "        return dxs\n",
    "    \n",
    "    def set_state(self, h, c=None):\n",
    "        self.h, self.c = h, c\n",
    "        \n",
    "    def reset_state(self):\n",
    "        self.h, self.c = None, None\n",
    "        "
   ]
  },
  {
   "cell_type": "code",
   "execution_count": 7,
   "metadata": {},
   "outputs": [],
   "source": [
    "import sys\n",
    "sys.path.append('..')\n",
    "from common.time_layers import *\n",
    "import pickle\n",
    "\n",
    "class Rnnlm:\n",
    "    def __init__(self, vocab_size=10000, wordvec_size=100, hidden_size=100):\n",
    "        V, D, H = vocab_size, wordvec_size, hidden_size\n",
    "        rn = np.random.randn\n",
    "        \n",
    "        embed_W = (rn(V, D) / 100).astype('f')\n",
    "        lstm_Wx = (rn(D, 4 * H) / np.sqrt(D)).astype('f')\n",
    "        lstm_Wh = (rn(D, 4 * H) / np.sqrt(H)).astype('f')\n",
    "        lstm_b = np.zeros(4 * H).astype('f')\n",
    "        affine_W = (rn(H, V) / np.sqrt(H)).astype('f')\n",
    "        affine_b = np.zeros(V).astype('f')\n",
    "        \n",
    "        self.layers = [\n",
    "            TimeEmbedding(embed_W),\n",
    "            TimeLSTM(lstm_Wx, lstm_Wh, lstm_b, stateful=True),\n",
    "            TimeAffine(affine_W, affine_b)\n",
    "        ]\n",
    "        self.loss_layer = TimeSoftmaxWithLoss()\n",
    "        self.lstm_layer = self.layers[1]\n",
    "        \n",
    "        self.params, self.grads = [], []\n",
    "        for layer in self.layers:\n",
    "            self.params += layer.params\n",
    "            self.grads += layer.grads\n",
    "            \n",
    "    def predict(self, xs):\n",
    "        for layer in self.layers:\n",
    "            xs = layer.forward(xs)\n",
    "        return xs\n",
    "    \n",
    "    def forward(self, xs, ts):\n",
    "        score = self.predict(xs)\n",
    "        loss = self.loss_layer.forward(score, ts)\n",
    "        return loss\n",
    "    \n",
    "    def backward(self, dout=1):\n",
    "        dout = self.loss_layer.backward(dout)\n",
    "        for layer in reversed(self.layers):\n",
    "            dout = layer.backward(dout)\n",
    "        return dout\n",
    "    \n",
    "    def reset_state(self):\n",
    "        self.lstm_layer.reset_state()\n",
    "        \n",
    "    def save_params(self, file_name='Rnnlm.pkl'):\n",
    "        with open(file_name, 'wb') as f:\n",
    "            pickle.dump(self.params, f)\n",
    "    \n",
    "    def load_params(self, file_name='Rnnlm.pkl'):\n",
    "        with open(file_name, 'rb') as f:\n",
    "            self.params = pickle.load(f)\n",
    "    "
   ]
  },
  {
   "cell_type": "code",
   "execution_count": 9,
   "metadata": {},
   "outputs": [
    {
     "name": "stdout",
     "output_type": "stream",
     "text": [
      "Downloading ptb.test.txt ... \n"
     ]
    },
    {
     "name": "stdout",
     "output_type": "stream",
     "text": [
      "Done\n"
     ]
    },
    {
     "name": "stdout",
     "output_type": "stream",
     "text": [
      "| epoch 1 |  iter 1 / 1327 | time 0[s] | perplexity 10002.25\n"
     ]
    },
    {
     "name": "stdout",
     "output_type": "stream",
     "text": [
      "| epoch 1 |  iter 21 / 1327 | time 5[s] | perplexity 2984.40\n"
     ]
    },
    {
     "name": "stdout",
     "output_type": "stream",
     "text": [
      "| epoch 1 |  iter 41 / 1327 | time 11[s] | perplexity 1205.23\n"
     ]
    },
    {
     "name": "stdout",
     "output_type": "stream",
     "text": [
      "| epoch 1 |  iter 61 / 1327 | time 16[s] | perplexity 967.53\n"
     ]
    },
    {
     "name": "stdout",
     "output_type": "stream",
     "text": [
      "| epoch 1 |  iter 81 / 1327 | time 22[s] | perplexity 786.30\n"
     ]
    },
    {
     "name": "stdout",
     "output_type": "stream",
     "text": [
      "| epoch 1 |  iter 101 / 1327 | time 28[s] | perplexity 660.96\n"
     ]
    },
    {
     "name": "stdout",
     "output_type": "stream",
     "text": [
      "| epoch 1 |  iter 121 / 1327 | time 34[s] | perplexity 660.88\n"
     ]
    },
    {
     "name": "stdout",
     "output_type": "stream",
     "text": [
      "| epoch 1 |  iter 141 / 1327 | time 40[s] | perplexity 601.03\n"
     ]
    },
    {
     "name": "stdout",
     "output_type": "stream",
     "text": [
      "| epoch 1 |  iter 161 / 1327 | time 46[s] | perplexity 568.46\n"
     ]
    },
    {
     "name": "stdout",
     "output_type": "stream",
     "text": [
      "| epoch 1 |  iter 181 / 1327 | time 52[s] | perplexity 590.27\n"
     ]
    },
    {
     "name": "stdout",
     "output_type": "stream",
     "text": [
      "| epoch 1 |  iter 201 / 1327 | time 58[s] | perplexity 503.20\n"
     ]
    },
    {
     "name": "stdout",
     "output_type": "stream",
     "text": [
      "| epoch 1 |  iter 221 / 1327 | time 64[s] | perplexity 488.60\n"
     ]
    },
    {
     "name": "stdout",
     "output_type": "stream",
     "text": [
      "| epoch 1 |  iter 241 / 1327 | time 70[s] | perplexity 438.68\n"
     ]
    },
    {
     "name": "stdout",
     "output_type": "stream",
     "text": [
      "| epoch 1 |  iter 261 / 1327 | time 76[s] | perplexity 464.52\n"
     ]
    },
    {
     "name": "stdout",
     "output_type": "stream",
     "text": [
      "| epoch 1 |  iter 281 / 1327 | time 82[s] | perplexity 455.89\n"
     ]
    },
    {
     "name": "stdout",
     "output_type": "stream",
     "text": [
      "| epoch 1 |  iter 301 / 1327 | time 88[s] | perplexity 389.13\n"
     ]
    },
    {
     "name": "stdout",
     "output_type": "stream",
     "text": [
      "| epoch 1 |  iter 321 / 1327 | time 94[s] | perplexity 343.11\n"
     ]
    },
    {
     "name": "stdout",
     "output_type": "stream",
     "text": [
      "| epoch 1 |  iter 341 / 1327 | time 100[s] | perplexity 404.77\n"
     ]
    },
    {
     "name": "stdout",
     "output_type": "stream",
     "text": [
      "| epoch 1 |  iter 361 / 1327 | time 105[s] | perplexity 405.11\n"
     ]
    },
    {
     "name": "stdout",
     "output_type": "stream",
     "text": [
      "| epoch 1 |  iter 381 / 1327 | time 112[s] | perplexity 331.85\n"
     ]
    },
    {
     "name": "stdout",
     "output_type": "stream",
     "text": [
      "| epoch 1 |  iter 401 / 1327 | time 118[s] | perplexity 347.42\n"
     ]
    },
    {
     "name": "stdout",
     "output_type": "stream",
     "text": [
      "| epoch 1 |  iter 421 / 1327 | time 124[s] | perplexity 345.96\n"
     ]
    },
    {
     "name": "stdout",
     "output_type": "stream",
     "text": [
      "| epoch 1 |  iter 441 / 1327 | time 130[s] | perplexity 332.58\n"
     ]
    },
    {
     "name": "stdout",
     "output_type": "stream",
     "text": [
      "| epoch 1 |  iter 461 / 1327 | time 137[s] | perplexity 328.02\n"
     ]
    },
    {
     "name": "stdout",
     "output_type": "stream",
     "text": [
      "| epoch 1 |  iter 481 / 1327 | time 143[s] | perplexity 302.03\n"
     ]
    },
    {
     "name": "stdout",
     "output_type": "stream",
     "text": [
      "| epoch 1 |  iter 501 / 1327 | time 150[s] | perplexity 310.06\n"
     ]
    },
    {
     "name": "stdout",
     "output_type": "stream",
     "text": [
      "| epoch 1 |  iter 521 / 1327 | time 156[s] | perplexity 298.60\n"
     ]
    },
    {
     "name": "stdout",
     "output_type": "stream",
     "text": [
      "| epoch 1 |  iter 541 / 1327 | time 163[s] | perplexity 319.37\n"
     ]
    },
    {
     "name": "stdout",
     "output_type": "stream",
     "text": [
      "| epoch 1 |  iter 561 / 1327 | time 170[s] | perplexity 285.45\n"
     ]
    },
    {
     "name": "stdout",
     "output_type": "stream",
     "text": [
      "| epoch 1 |  iter 581 / 1327 | time 176[s] | perplexity 257.83\n"
     ]
    },
    {
     "name": "stdout",
     "output_type": "stream",
     "text": [
      "| epoch 1 |  iter 601 / 1327 | time 183[s] | perplexity 333.62\n"
     ]
    },
    {
     "name": "stdout",
     "output_type": "stream",
     "text": [
      "| epoch 1 |  iter 621 / 1327 | time 189[s] | perplexity 306.08\n"
     ]
    },
    {
     "name": "stdout",
     "output_type": "stream",
     "text": [
      "| epoch 1 |  iter 641 / 1327 | time 196[s] | perplexity 284.16\n"
     ]
    },
    {
     "name": "stdout",
     "output_type": "stream",
     "text": [
      "| epoch 1 |  iter 661 / 1327 | time 203[s] | perplexity 269.26\n"
     ]
    },
    {
     "name": "stdout",
     "output_type": "stream",
     "text": [
      "| epoch 1 |  iter 681 / 1327 | time 209[s] | perplexity 227.33\n"
     ]
    },
    {
     "name": "stdout",
     "output_type": "stream",
     "text": [
      "| epoch 1 |  iter 701 / 1327 | time 216[s] | perplexity 249.17\n"
     ]
    },
    {
     "name": "stdout",
     "output_type": "stream",
     "text": [
      "| epoch 1 |  iter 721 / 1327 | time 222[s] | perplexity 258.45\n"
     ]
    },
    {
     "name": "stdout",
     "output_type": "stream",
     "text": [
      "| epoch 1 |  iter 741 / 1327 | time 229[s] | perplexity 219.69\n"
     ]
    },
    {
     "name": "stdout",
     "output_type": "stream",
     "text": [
      "| epoch 1 |  iter 761 / 1327 | time 235[s] | perplexity 231.39\n"
     ]
    },
    {
     "name": "stdout",
     "output_type": "stream",
     "text": [
      "| epoch 1 |  iter 781 / 1327 | time 241[s] | perplexity 218.07\n"
     ]
    },
    {
     "name": "stdout",
     "output_type": "stream",
     "text": [
      "| epoch 1 |  iter 801 / 1327 | time 247[s] | perplexity 240.89\n"
     ]
    },
    {
     "name": "stdout",
     "output_type": "stream",
     "text": [
      "| epoch 1 |  iter 821 / 1327 | time 253[s] | perplexity 223.35\n"
     ]
    },
    {
     "name": "stdout",
     "output_type": "stream",
     "text": [
      "| epoch 1 |  iter 841 / 1327 | time 259[s] | perplexity 226.79\n"
     ]
    },
    {
     "name": "stdout",
     "output_type": "stream",
     "text": [
      "| epoch 1 |  iter 861 / 1327 | time 266[s] | perplexity 220.48\n"
     ]
    },
    {
     "name": "stdout",
     "output_type": "stream",
     "text": [
      "| epoch 1 |  iter 881 / 1327 | time 272[s] | perplexity 205.30\n"
     ]
    },
    {
     "name": "stdout",
     "output_type": "stream",
     "text": [
      "| epoch 1 |  iter 901 / 1327 | time 278[s] | perplexity 252.03\n"
     ]
    },
    {
     "name": "stdout",
     "output_type": "stream",
     "text": [
      "| epoch 1 |  iter 921 / 1327 | time 284[s] | perplexity 224.18\n"
     ]
    },
    {
     "name": "stdout",
     "output_type": "stream",
     "text": [
      "| epoch 1 |  iter 941 / 1327 | time 290[s] | perplexity 225.87\n"
     ]
    },
    {
     "name": "stdout",
     "output_type": "stream",
     "text": [
      "| epoch 1 |  iter 961 / 1327 | time 296[s] | perplexity 242.21\n"
     ]
    },
    {
     "name": "stdout",
     "output_type": "stream",
     "text": [
      "| epoch 1 |  iter 981 / 1327 | time 302[s] | perplexity 226.81\n"
     ]
    },
    {
     "name": "stdout",
     "output_type": "stream",
     "text": [
      "| epoch 1 |  iter 1001 / 1327 | time 307[s] | perplexity 191.07\n"
     ]
    },
    {
     "name": "stdout",
     "output_type": "stream",
     "text": [
      "| epoch 1 |  iter 1021 / 1327 | time 314[s] | perplexity 224.49\n"
     ]
    },
    {
     "name": "stdout",
     "output_type": "stream",
     "text": [
      "| epoch 1 |  iter 1041 / 1327 | time 320[s] | perplexity 205.12\n"
     ]
    },
    {
     "name": "stdout",
     "output_type": "stream",
     "text": [
      "| epoch 1 |  iter 1061 / 1327 | time 326[s] | perplexity 193.59\n"
     ]
    },
    {
     "name": "stdout",
     "output_type": "stream",
     "text": [
      "| epoch 1 |  iter 1081 / 1327 | time 332[s] | perplexity 164.85\n"
     ]
    },
    {
     "name": "stdout",
     "output_type": "stream",
     "text": [
      "| epoch 1 |  iter 1101 / 1327 | time 338[s] | perplexity 191.79\n"
     ]
    },
    {
     "name": "stdout",
     "output_type": "stream",
     "text": [
      "| epoch 1 |  iter 1121 / 1327 | time 345[s] | perplexity 225.02\n"
     ]
    },
    {
     "name": "stdout",
     "output_type": "stream",
     "text": [
      "| epoch 1 |  iter 1141 / 1327 | time 351[s] | perplexity 205.44\n"
     ]
    },
    {
     "name": "stdout",
     "output_type": "stream",
     "text": [
      "| epoch 1 |  iter 1161 / 1327 | time 357[s] | perplexity 196.99\n"
     ]
    },
    {
     "name": "stdout",
     "output_type": "stream",
     "text": [
      "| epoch 1 |  iter 1181 / 1327 | time 363[s] | perplexity 187.24\n"
     ]
    },
    {
     "name": "stdout",
     "output_type": "stream",
     "text": [
      "| epoch 1 |  iter 1201 / 1327 | time 370[s] | perplexity 160.96\n"
     ]
    },
    {
     "name": "stdout",
     "output_type": "stream",
     "text": [
      "| epoch 1 |  iter 1221 / 1327 | time 376[s] | perplexity 158.17\n"
     ]
    },
    {
     "name": "stdout",
     "output_type": "stream",
     "text": [
      "| epoch 1 |  iter 1241 / 1327 | time 382[s] | perplexity 186.28\n"
     ]
    },
    {
     "name": "stdout",
     "output_type": "stream",
     "text": [
      "| epoch 1 |  iter 1261 / 1327 | time 388[s] | perplexity 169.62\n"
     ]
    },
    {
     "name": "stdout",
     "output_type": "stream",
     "text": [
      "| epoch 1 |  iter 1281 / 1327 | time 394[s] | perplexity 175.53\n"
     ]
    },
    {
     "name": "stdout",
     "output_type": "stream",
     "text": [
      "| epoch 1 |  iter 1301 / 1327 | time 400[s] | perplexity 217.97\n"
     ]
    },
    {
     "name": "stdout",
     "output_type": "stream",
     "text": [
      "| epoch 1 |  iter 1321 / 1327 | time 406[s] | perplexity 208.16\n"
     ]
    },
    {
     "name": "stdout",
     "output_type": "stream",
     "text": [
      "| epoch 2 |  iter 1 / 1327 | time 409[s] | perplexity 221.11\n"
     ]
    },
    {
     "name": "stdout",
     "output_type": "stream",
     "text": [
      "| epoch 2 |  iter 21 / 1327 | time 415[s] | perplexity 200.35\n"
     ]
    },
    {
     "name": "stdout",
     "output_type": "stream",
     "text": [
      "| epoch 2 |  iter 41 / 1327 | time 420[s] | perplexity 187.71\n"
     ]
    },
    {
     "name": "stdout",
     "output_type": "stream",
     "text": [
      "| epoch 2 |  iter 61 / 1327 | time 427[s] | perplexity 173.63\n"
     ]
    },
    {
     "name": "stdout",
     "output_type": "stream",
     "text": [
      "| epoch 2 |  iter 81 / 1327 | time 433[s] | perplexity 158.83\n"
     ]
    },
    {
     "name": "stdout",
     "output_type": "stream",
     "text": [
      "| epoch 2 |  iter 101 / 1327 | time 439[s] | perplexity 151.00\n"
     ]
    },
    {
     "name": "stdout",
     "output_type": "stream",
     "text": [
      "| epoch 2 |  iter 121 / 1327 | time 445[s] | perplexity 157.59\n"
     ]
    },
    {
     "name": "stdout",
     "output_type": "stream",
     "text": [
      "| epoch 2 |  iter 141 / 1327 | time 451[s] | perplexity 174.56\n"
     ]
    },
    {
     "name": "stdout",
     "output_type": "stream",
     "text": [
      "| epoch 2 |  iter 161 / 1327 | time 458[s] | perplexity 188.28\n"
     ]
    },
    {
     "name": "stdout",
     "output_type": "stream",
     "text": [
      "| epoch 2 |  iter 181 / 1327 | time 464[s] | perplexity 197.70\n"
     ]
    },
    {
     "name": "stdout",
     "output_type": "stream",
     "text": [
      "| epoch 2 |  iter 201 / 1327 | time 471[s] | perplexity 183.68\n"
     ]
    },
    {
     "name": "stdout",
     "output_type": "stream",
     "text": [
      "| epoch 2 |  iter 221 / 1327 | time 477[s] | perplexity 181.09\n"
     ]
    },
    {
     "name": "stdout",
     "output_type": "stream",
     "text": [
      "| epoch 2 |  iter 241 / 1327 | time 483[s] | perplexity 175.44\n"
     ]
    },
    {
     "name": "stdout",
     "output_type": "stream",
     "text": [
      "| epoch 2 |  iter 261 / 1327 | time 489[s] | perplexity 184.04\n"
     ]
    },
    {
     "name": "stdout",
     "output_type": "stream",
     "text": [
      "| epoch 2 |  iter 281 / 1327 | time 496[s] | perplexity 183.28\n"
     ]
    },
    {
     "name": "stdout",
     "output_type": "stream",
     "text": [
      "| epoch 2 |  iter 301 / 1327 | time 502[s] | perplexity 165.38\n"
     ]
    },
    {
     "name": "stdout",
     "output_type": "stream",
     "text": [
      "| epoch 2 |  iter 321 / 1327 | time 509[s] | perplexity 136.45\n"
     ]
    },
    {
     "name": "stdout",
     "output_type": "stream",
     "text": [
      "| epoch 2 |  iter 341 / 1327 | time 515[s] | perplexity 169.30\n"
     ]
    },
    {
     "name": "stdout",
     "output_type": "stream",
     "text": [
      "| epoch 2 |  iter 361 / 1327 | time 521[s] | perplexity 195.68\n"
     ]
    },
    {
     "name": "stdout",
     "output_type": "stream",
     "text": [
      "| epoch 2 |  iter 381 / 1327 | time 528[s] | perplexity 151.27\n"
     ]
    },
    {
     "name": "stdout",
     "output_type": "stream",
     "text": [
      "| epoch 2 |  iter 401 / 1327 | time 534[s] | perplexity 167.20\n"
     ]
    },
    {
     "name": "stdout",
     "output_type": "stream",
     "text": [
      "| epoch 2 |  iter 421 / 1327 | time 540[s] | perplexity 153.22\n"
     ]
    },
    {
     "name": "stdout",
     "output_type": "stream",
     "text": [
      "| epoch 2 |  iter 441 / 1327 | time 547[s] | perplexity 161.50\n"
     ]
    },
    {
     "name": "stdout",
     "output_type": "stream",
     "text": [
      "| epoch 2 |  iter 461 / 1327 | time 553[s] | perplexity 156.12\n"
     ]
    },
    {
     "name": "stdout",
     "output_type": "stream",
     "text": [
      "| epoch 2 |  iter 481 / 1327 | time 560[s] | perplexity 152.92\n"
     ]
    },
    {
     "name": "stdout",
     "output_type": "stream",
     "text": [
      "| epoch 2 |  iter 501 / 1327 | time 566[s] | perplexity 167.27\n"
     ]
    },
    {
     "name": "stdout",
     "output_type": "stream",
     "text": [
      "| epoch 2 |  iter 521 / 1327 | time 572[s] | perplexity 170.53\n"
     ]
    },
    {
     "name": "stdout",
     "output_type": "stream",
     "text": [
      "| epoch 2 |  iter 541 / 1327 | time 579[s] | perplexity 171.95\n"
     ]
    },
    {
     "name": "stdout",
     "output_type": "stream",
     "text": [
      "| epoch 2 |  iter 561 / 1327 | time 585[s] | perplexity 154.05\n"
     ]
    },
    {
     "name": "stdout",
     "output_type": "stream",
     "text": [
      "| epoch 2 |  iter 581 / 1327 | time 591[s] | perplexity 136.27\n"
     ]
    },
    {
     "name": "stdout",
     "output_type": "stream",
     "text": [
      "| epoch 2 |  iter 601 / 1327 | time 598[s] | perplexity 187.14\n"
     ]
    },
    {
     "name": "stdout",
     "output_type": "stream",
     "text": [
      "| epoch 2 |  iter 621 / 1327 | time 604[s] | perplexity 179.73\n"
     ]
    },
    {
     "name": "stdout",
     "output_type": "stream",
     "text": [
      "| epoch 2 |  iter 641 / 1327 | time 610[s] | perplexity 160.92\n"
     ]
    },
    {
     "name": "stdout",
     "output_type": "stream",
     "text": [
      "| epoch 2 |  iter 661 / 1327 | time 617[s] | perplexity 151.67\n"
     ]
    },
    {
     "name": "stdout",
     "output_type": "stream",
     "text": [
      "| epoch 2 |  iter 681 / 1327 | time 623[s] | perplexity 127.61\n"
     ]
    },
    {
     "name": "stdout",
     "output_type": "stream",
     "text": [
      "| epoch 2 |  iter 701 / 1327 | time 629[s] | perplexity 147.84\n"
     ]
    },
    {
     "name": "stdout",
     "output_type": "stream",
     "text": [
      "| epoch 2 |  iter 721 / 1327 | time 635[s] | perplexity 157.12\n"
     ]
    },
    {
     "name": "stdout",
     "output_type": "stream",
     "text": [
      "| epoch 2 |  iter 741 / 1327 | time 642[s] | perplexity 130.73\n"
     ]
    },
    {
     "name": "stdout",
     "output_type": "stream",
     "text": [
      "| epoch 2 |  iter 761 / 1327 | time 648[s] | perplexity 128.48\n"
     ]
    },
    {
     "name": "stdout",
     "output_type": "stream",
     "text": [
      "| epoch 2 |  iter 781 / 1327 | time 654[s] | perplexity 132.08\n"
     ]
    },
    {
     "name": "stdout",
     "output_type": "stream",
     "text": [
      "| epoch 2 |  iter 801 / 1327 | time 660[s] | perplexity 145.82\n"
     ]
    },
    {
     "name": "stdout",
     "output_type": "stream",
     "text": [
      "| epoch 2 |  iter 821 / 1327 | time 667[s] | perplexity 141.87\n"
     ]
    },
    {
     "name": "stdout",
     "output_type": "stream",
     "text": [
      "| epoch 2 |  iter 841 / 1327 | time 673[s] | perplexity 141.66\n"
     ]
    },
    {
     "name": "stdout",
     "output_type": "stream",
     "text": [
      "| epoch 2 |  iter 861 / 1327 | time 679[s] | perplexity 144.04\n"
     ]
    },
    {
     "name": "stdout",
     "output_type": "stream",
     "text": [
      "| epoch 2 |  iter 881 / 1327 | time 685[s] | perplexity 127.89\n"
     ]
    },
    {
     "name": "stdout",
     "output_type": "stream",
     "text": [
      "| epoch 2 |  iter 901 / 1327 | time 691[s] | perplexity 164.00\n"
     ]
    },
    {
     "name": "stdout",
     "output_type": "stream",
     "text": [
      "| epoch 2 |  iter 921 / 1327 | time 697[s] | perplexity 144.19\n"
     ]
    },
    {
     "name": "stdout",
     "output_type": "stream",
     "text": [
      "| epoch 2 |  iter 941 / 1327 | time 704[s] | perplexity 151.64\n"
     ]
    },
    {
     "name": "stdout",
     "output_type": "stream",
     "text": [
      "| epoch 2 |  iter 961 / 1327 | time 710[s] | perplexity 162.50\n"
     ]
    },
    {
     "name": "stdout",
     "output_type": "stream",
     "text": [
      "| epoch 2 |  iter 981 / 1327 | time 716[s] | perplexity 151.58\n"
     ]
    },
    {
     "name": "stdout",
     "output_type": "stream",
     "text": [
      "| epoch 2 |  iter 1001 / 1327 | time 722[s] | perplexity 129.29\n"
     ]
    },
    {
     "name": "stdout",
     "output_type": "stream",
     "text": [
      "| epoch 2 |  iter 1021 / 1327 | time 728[s] | perplexity 153.84\n"
     ]
    },
    {
     "name": "stdout",
     "output_type": "stream",
     "text": [
      "| epoch 2 |  iter 1041 / 1327 | time 735[s] | perplexity 140.27\n"
     ]
    },
    {
     "name": "stdout",
     "output_type": "stream",
     "text": [
      "| epoch 2 |  iter 1061 / 1327 | time 741[s] | perplexity 126.14\n"
     ]
    },
    {
     "name": "stdout",
     "output_type": "stream",
     "text": [
      "| epoch 2 |  iter 1081 / 1327 | time 747[s] | perplexity 109.18\n"
     ]
    },
    {
     "name": "stdout",
     "output_type": "stream",
     "text": [
      "| epoch 2 |  iter 1101 / 1327 | time 753[s] | perplexity 120.40\n"
     ]
    },
    {
     "name": "stdout",
     "output_type": "stream",
     "text": [
      "| epoch 2 |  iter 1121 / 1327 | time 759[s] | perplexity 151.81\n"
     ]
    },
    {
     "name": "stdout",
     "output_type": "stream",
     "text": [
      "| epoch 2 |  iter 1141 / 1327 | time 765[s] | perplexity 139.03\n"
     ]
    },
    {
     "name": "stdout",
     "output_type": "stream",
     "text": [
      "| epoch 2 |  iter 1161 / 1327 | time 772[s] | perplexity 129.97\n"
     ]
    },
    {
     "name": "stdout",
     "output_type": "stream",
     "text": [
      "| epoch 2 |  iter 1181 / 1327 | time 778[s] | perplexity 131.86\n"
     ]
    },
    {
     "name": "stdout",
     "output_type": "stream",
     "text": [
      "| epoch 2 |  iter 1201 / 1327 | time 784[s] | perplexity 109.98\n"
     ]
    },
    {
     "name": "stdout",
     "output_type": "stream",
     "text": [
      "| epoch 2 |  iter 1221 / 1327 | time 791[s] | perplexity 107.13\n"
     ]
    },
    {
     "name": "stdout",
     "output_type": "stream",
     "text": [
      "| epoch 2 |  iter 1241 / 1327 | time 797[s] | perplexity 129.88\n"
     ]
    },
    {
     "name": "stdout",
     "output_type": "stream",
     "text": [
      "| epoch 2 |  iter 1261 / 1327 | time 803[s] | perplexity 122.17\n"
     ]
    },
    {
     "name": "stdout",
     "output_type": "stream",
     "text": [
      "| epoch 2 |  iter 1281 / 1327 | time 809[s] | perplexity 121.23\n"
     ]
    },
    {
     "name": "stdout",
     "output_type": "stream",
     "text": [
      "| epoch 2 |  iter 1301 / 1327 | time 815[s] | perplexity 156.69\n"
     ]
    },
    {
     "name": "stdout",
     "output_type": "stream",
     "text": [
      "| epoch 2 |  iter 1321 / 1327 | time 822[s] | perplexity 150.83\n"
     ]
    },
    {
     "name": "stdout",
     "output_type": "stream",
     "text": [
      "| epoch 3 |  iter 1 / 1327 | time 824[s] | perplexity 157.01\n"
     ]
    },
    {
     "name": "stdout",
     "output_type": "stream",
     "text": [
      "| epoch 3 |  iter 21 / 1327 | time 830[s] | perplexity 141.29\n"
     ]
    },
    {
     "name": "stdout",
     "output_type": "stream",
     "text": [
      "| epoch 3 |  iter 41 / 1327 | time 836[s] | perplexity 132.59\n"
     ]
    },
    {
     "name": "stdout",
     "output_type": "stream",
     "text": [
      "| epoch 3 |  iter 61 / 1327 | time 843[s] | perplexity 124.55\n"
     ]
    },
    {
     "name": "stdout",
     "output_type": "stream",
     "text": [
      "| epoch 3 |  iter 81 / 1327 | time 849[s] | perplexity 115.82\n"
     ]
    },
    {
     "name": "stdout",
     "output_type": "stream",
     "text": [
      "| epoch 3 |  iter 101 / 1327 | time 855[s] | perplexity 105.20\n"
     ]
    },
    {
     "name": "stdout",
     "output_type": "stream",
     "text": [
      "| epoch 3 |  iter 121 / 1327 | time 861[s] | perplexity 114.59\n"
     ]
    },
    {
     "name": "stdout",
     "output_type": "stream",
     "text": [
      "| epoch 3 |  iter 141 / 1327 | time 867[s] | perplexity 123.12\n"
     ]
    },
    {
     "name": "stdout",
     "output_type": "stream",
     "text": [
      "| epoch 3 |  iter 161 / 1327 | time 873[s] | perplexity 139.57\n"
     ]
    },
    {
     "name": "stdout",
     "output_type": "stream",
     "text": [
      "| epoch 3 |  iter 181 / 1327 | time 879[s] | perplexity 149.37\n"
     ]
    },
    {
     "name": "stdout",
     "output_type": "stream",
     "text": [
      "| epoch 3 |  iter 201 / 1327 | time 886[s] | perplexity 138.95\n"
     ]
    },
    {
     "name": "stdout",
     "output_type": "stream",
     "text": [
      "| epoch 3 |  iter 221 / 1327 | time 892[s] | perplexity 139.20\n"
     ]
    },
    {
     "name": "stdout",
     "output_type": "stream",
     "text": [
      "| epoch 3 |  iter 241 / 1327 | time 898[s] | perplexity 131.24\n"
     ]
    },
    {
     "name": "stdout",
     "output_type": "stream",
     "text": [
      "| epoch 3 |  iter 261 / 1327 | time 904[s] | perplexity 137.37\n"
     ]
    },
    {
     "name": "stdout",
     "output_type": "stream",
     "text": [
      "| epoch 3 |  iter 281 / 1327 | time 911[s] | perplexity 139.40\n"
     ]
    },
    {
     "name": "stdout",
     "output_type": "stream",
     "text": [
      "| epoch 3 |  iter 301 / 1327 | time 917[s] | perplexity 123.91\n"
     ]
    },
    {
     "name": "stdout",
     "output_type": "stream",
     "text": [
      "| epoch 3 |  iter 321 / 1327 | time 923[s] | perplexity 102.70\n"
     ]
    },
    {
     "name": "stdout",
     "output_type": "stream",
     "text": [
      "| epoch 3 |  iter 341 / 1327 | time 929[s] | perplexity 123.11\n"
     ]
    },
    {
     "name": "stdout",
     "output_type": "stream",
     "text": [
      "| epoch 3 |  iter 361 / 1327 | time 935[s] | perplexity 150.57\n"
     ]
    },
    {
     "name": "stdout",
     "output_type": "stream",
     "text": [
      "| epoch 3 |  iter 381 / 1327 | time 941[s] | perplexity 112.36\n"
     ]
    },
    {
     "name": "stdout",
     "output_type": "stream",
     "text": [
      "| epoch 3 |  iter 401 / 1327 | time 948[s] | perplexity 128.44\n"
     ]
    },
    {
     "name": "stdout",
     "output_type": "stream",
     "text": [
      "| epoch 3 |  iter 421 / 1327 | time 954[s] | perplexity 111.33\n"
     ]
    },
    {
     "name": "stdout",
     "output_type": "stream",
     "text": [
      "| epoch 3 |  iter 441 / 1327 | time 960[s] | perplexity 121.38\n"
     ]
    },
    {
     "name": "stdout",
     "output_type": "stream",
     "text": [
      "| epoch 3 |  iter 461 / 1327 | time 966[s] | perplexity 116.87\n"
     ]
    },
    {
     "name": "stdout",
     "output_type": "stream",
     "text": [
      "| epoch 3 |  iter 481 / 1327 | time 972[s] | perplexity 116.30\n"
     ]
    },
    {
     "name": "stdout",
     "output_type": "stream",
     "text": [
      "| epoch 3 |  iter 501 / 1327 | time 978[s] | perplexity 126.44\n"
     ]
    },
    {
     "name": "stdout",
     "output_type": "stream",
     "text": [
      "| epoch 3 |  iter 521 / 1327 | time 985[s] | perplexity 135.83\n"
     ]
    },
    {
     "name": "stdout",
     "output_type": "stream",
     "text": [
      "| epoch 3 |  iter 541 / 1327 | time 991[s] | perplexity 133.94\n"
     ]
    },
    {
     "name": "stdout",
     "output_type": "stream",
     "text": [
      "| epoch 3 |  iter 561 / 1327 | time 997[s] | perplexity 117.58\n"
     ]
    },
    {
     "name": "stdout",
     "output_type": "stream",
     "text": [
      "| epoch 3 |  iter 581 / 1327 | time 1003[s] | perplexity 104.25\n"
     ]
    },
    {
     "name": "stdout",
     "output_type": "stream",
     "text": [
      "| epoch 3 |  iter 601 / 1327 | time 1009[s] | perplexity 147.43\n"
     ]
    },
    {
     "name": "stdout",
     "output_type": "stream",
     "text": [
      "| epoch 3 |  iter 621 / 1327 | time 1015[s] | perplexity 139.89\n"
     ]
    },
    {
     "name": "stdout",
     "output_type": "stream",
     "text": [
      "| epoch 3 |  iter 641 / 1327 | time 1021[s] | perplexity 125.67\n"
     ]
    },
    {
     "name": "stdout",
     "output_type": "stream",
     "text": [
      "| epoch 3 |  iter 661 / 1327 | time 1027[s] | perplexity 117.15\n"
     ]
    },
    {
     "name": "stdout",
     "output_type": "stream",
     "text": [
      "| epoch 3 |  iter 681 / 1327 | time 1033[s] | perplexity 99.77\n"
     ]
    },
    {
     "name": "stdout",
     "output_type": "stream",
     "text": [
      "| epoch 3 |  iter 701 / 1327 | time 1039[s] | perplexity 115.77\n"
     ]
    },
    {
     "name": "stdout",
     "output_type": "stream",
     "text": [
      "| epoch 3 |  iter 721 / 1327 | time 1045[s] | perplexity 123.94\n"
     ]
    },
    {
     "name": "stdout",
     "output_type": "stream",
     "text": [
      "| epoch 3 |  iter 741 / 1327 | time 1051[s] | perplexity 106.26\n"
     ]
    },
    {
     "name": "stdout",
     "output_type": "stream",
     "text": [
      "| epoch 3 |  iter 761 / 1327 | time 1057[s] | perplexity 101.97\n"
     ]
    },
    {
     "name": "stdout",
     "output_type": "stream",
     "text": [
      "| epoch 3 |  iter 781 / 1327 | time 1063[s] | perplexity 102.82\n"
     ]
    },
    {
     "name": "stdout",
     "output_type": "stream",
     "text": [
      "| epoch 3 |  iter 801 / 1327 | time 1069[s] | perplexity 113.88\n"
     ]
    },
    {
     "name": "stdout",
     "output_type": "stream",
     "text": [
      "| epoch 3 |  iter 821 / 1327 | time 1075[s] | perplexity 114.73\n"
     ]
    },
    {
     "name": "stdout",
     "output_type": "stream",
     "text": [
      "| epoch 3 |  iter 841 / 1327 | time 1082[s] | perplexity 111.78\n"
     ]
    },
    {
     "name": "stdout",
     "output_type": "stream",
     "text": [
      "| epoch 3 |  iter 861 / 1327 | time 1088[s] | perplexity 119.09\n"
     ]
    },
    {
     "name": "stdout",
     "output_type": "stream",
     "text": [
      "| epoch 3 |  iter 881 / 1327 | time 1094[s] | perplexity 104.69\n"
     ]
    },
    {
     "name": "stdout",
     "output_type": "stream",
     "text": [
      "| epoch 3 |  iter 901 / 1327 | time 1100[s] | perplexity 128.90\n"
     ]
    },
    {
     "name": "stdout",
     "output_type": "stream",
     "text": [
      "| epoch 3 |  iter 921 / 1327 | time 1106[s] | perplexity 116.46\n"
     ]
    },
    {
     "name": "stdout",
     "output_type": "stream",
     "text": [
      "| epoch 3 |  iter 941 / 1327 | time 1112[s] | perplexity 125.57\n"
     ]
    },
    {
     "name": "stdout",
     "output_type": "stream",
     "text": [
      "| epoch 3 |  iter 961 / 1327 | time 1118[s] | perplexity 130.14\n"
     ]
    },
    {
     "name": "stdout",
     "output_type": "stream",
     "text": [
      "| epoch 3 |  iter 981 / 1327 | time 1125[s] | perplexity 121.31\n"
     ]
    },
    {
     "name": "stdout",
     "output_type": "stream",
     "text": [
      "| epoch 3 |  iter 1001 / 1327 | time 1131[s] | perplexity 106.96\n"
     ]
    },
    {
     "name": "stdout",
     "output_type": "stream",
     "text": [
      "| epoch 3 |  iter 1021 / 1327 | time 1137[s] | perplexity 126.54\n"
     ]
    },
    {
     "name": "stdout",
     "output_type": "stream",
     "text": [
      "| epoch 3 |  iter 1041 / 1327 | time 1144[s] | perplexity 117.27\n"
     ]
    },
    {
     "name": "stdout",
     "output_type": "stream",
     "text": [
      "| epoch 3 |  iter 1061 / 1327 | time 1150[s] | perplexity 101.16\n"
     ]
    },
    {
     "name": "stdout",
     "output_type": "stream",
     "text": [
      "| epoch 3 |  iter 1081 / 1327 | time 1156[s] | perplexity 87.73\n"
     ]
    },
    {
     "name": "stdout",
     "output_type": "stream",
     "text": [
      "| epoch 3 |  iter 1101 / 1327 | time 1163[s] | perplexity 94.75\n"
     ]
    },
    {
     "name": "stdout",
     "output_type": "stream",
     "text": [
      "| epoch 3 |  iter 1121 / 1327 | time 1169[s] | perplexity 121.14\n"
     ]
    },
    {
     "name": "stdout",
     "output_type": "stream",
     "text": [
      "| epoch 3 |  iter 1141 / 1327 | time 1175[s] | perplexity 112.58\n"
     ]
    },
    {
     "name": "stdout",
     "output_type": "stream",
     "text": [
      "| epoch 3 |  iter 1161 / 1327 | time 1182[s] | perplexity 103.73\n"
     ]
    },
    {
     "name": "stdout",
     "output_type": "stream",
     "text": [
      "| epoch 3 |  iter 1181 / 1327 | time 1188[s] | perplexity 109.72\n"
     ]
    },
    {
     "name": "stdout",
     "output_type": "stream",
     "text": [
      "| epoch 3 |  iter 1201 / 1327 | time 1194[s] | perplexity 91.91\n"
     ]
    },
    {
     "name": "stdout",
     "output_type": "stream",
     "text": [
      "| epoch 3 |  iter 1221 / 1327 | time 1200[s] | perplexity 86.91\n"
     ]
    },
    {
     "name": "stdout",
     "output_type": "stream",
     "text": [
      "| epoch 3 |  iter 1241 / 1327 | time 1206[s] | perplexity 104.76\n"
     ]
    },
    {
     "name": "stdout",
     "output_type": "stream",
     "text": [
      "| epoch 3 |  iter 1261 / 1327 | time 1212[s] | perplexity 103.84\n"
     ]
    },
    {
     "name": "stdout",
     "output_type": "stream",
     "text": [
      "| epoch 3 |  iter 1281 / 1327 | time 1218[s] | perplexity 99.39\n"
     ]
    },
    {
     "name": "stdout",
     "output_type": "stream",
     "text": [
      "| epoch 3 |  iter 1301 / 1327 | time 1224[s] | perplexity 128.76\n"
     ]
    },
    {
     "name": "stdout",
     "output_type": "stream",
     "text": [
      "| epoch 3 |  iter 1321 / 1327 | time 1230[s] | perplexity 123.46\n"
     ]
    },
    {
     "name": "stdout",
     "output_type": "stream",
     "text": [
      "| epoch 4 |  iter 1 / 1327 | time 1232[s] | perplexity 128.43\n"
     ]
    },
    {
     "name": "stdout",
     "output_type": "stream",
     "text": [
      "| epoch 4 |  iter 21 / 1327 | time 1238[s] | perplexity 119.46\n"
     ]
    },
    {
     "name": "stdout",
     "output_type": "stream",
     "text": [
      "| epoch 4 |  iter 41 / 1327 | time 1244[s] | perplexity 104.99\n"
     ]
    },
    {
     "name": "stdout",
     "output_type": "stream",
     "text": [
      "| epoch 4 |  iter 61 / 1327 | time 1251[s] | perplexity 105.43\n"
     ]
    },
    {
     "name": "stdout",
     "output_type": "stream",
     "text": [
      "| epoch 4 |  iter 81 / 1327 | time 1257[s] | perplexity 94.54\n"
     ]
    },
    {
     "name": "stdout",
     "output_type": "stream",
     "text": [
      "| epoch 4 |  iter 101 / 1327 | time 1263[s] | perplexity 86.47\n"
     ]
    },
    {
     "name": "stdout",
     "output_type": "stream",
     "text": [
      "| epoch 4 |  iter 121 / 1327 | time 1269[s] | perplexity 94.33\n"
     ]
    },
    {
     "name": "stdout",
     "output_type": "stream",
     "text": [
      "| epoch 4 |  iter 141 / 1327 | time 1275[s] | perplexity 100.82\n"
     ]
    },
    {
     "name": "stdout",
     "output_type": "stream",
     "text": [
      "| epoch 4 |  iter 161 / 1327 | time 1282[s] | perplexity 116.51\n"
     ]
    },
    {
     "name": "stdout",
     "output_type": "stream",
     "text": [
      "| epoch 4 |  iter 181 / 1327 | time 1288[s] | perplexity 127.20\n"
     ]
    },
    {
     "name": "stdout",
     "output_type": "stream",
     "text": [
      "| epoch 4 |  iter 201 / 1327 | time 1294[s] | perplexity 117.47\n"
     ]
    },
    {
     "name": "stdout",
     "output_type": "stream",
     "text": [
      "| epoch 4 |  iter 221 / 1327 | time 1300[s] | perplexity 119.76\n"
     ]
    },
    {
     "name": "stdout",
     "output_type": "stream",
     "text": [
      "| epoch 4 |  iter 241 / 1327 | time 1306[s] | perplexity 113.12\n"
     ]
    },
    {
     "name": "stdout",
     "output_type": "stream",
     "text": [
      "| epoch 4 |  iter 261 / 1327 | time 1312[s] | perplexity 113.09\n"
     ]
    },
    {
     "name": "stdout",
     "output_type": "stream",
     "text": [
      "| epoch 4 |  iter 281 / 1327 | time 1319[s] | perplexity 117.90\n"
     ]
    },
    {
     "name": "stdout",
     "output_type": "stream",
     "text": [
      "| epoch 4 |  iter 301 / 1327 | time 1325[s] | perplexity 104.03\n"
     ]
    },
    {
     "name": "stdout",
     "output_type": "stream",
     "text": [
      "| epoch 4 |  iter 321 / 1327 | time 1331[s] | perplexity 83.25\n"
     ]
    },
    {
     "name": "stdout",
     "output_type": "stream",
     "text": [
      "| epoch 4 |  iter 341 / 1327 | time 1337[s] | perplexity 99.03\n"
     ]
    },
    {
     "name": "stdout",
     "output_type": "stream",
     "text": [
      "| epoch 4 |  iter 361 / 1327 | time 1343[s] | perplexity 126.40\n"
     ]
    },
    {
     "name": "stdout",
     "output_type": "stream",
     "text": [
      "| epoch 4 |  iter 381 / 1327 | time 1349[s] | perplexity 95.31\n"
     ]
    },
    {
     "name": "stdout",
     "output_type": "stream",
     "text": [
      "| epoch 4 |  iter 401 / 1327 | time 1355[s] | perplexity 109.05\n"
     ]
    },
    {
     "name": "stdout",
     "output_type": "stream",
     "text": [
      "| epoch 4 |  iter 421 / 1327 | time 1361[s] | perplexity 92.16\n"
     ]
    },
    {
     "name": "stdout",
     "output_type": "stream",
     "text": [
      "| epoch 4 |  iter 441 / 1327 | time 1367[s] | perplexity 100.10\n"
     ]
    },
    {
     "name": "stdout",
     "output_type": "stream",
     "text": [
      "| epoch 4 |  iter 461 / 1327 | time 1373[s] | perplexity 98.84\n"
     ]
    },
    {
     "name": "stdout",
     "output_type": "stream",
     "text": [
      "| epoch 4 |  iter 481 / 1327 | time 1379[s] | perplexity 99.73\n"
     ]
    },
    {
     "name": "stdout",
     "output_type": "stream",
     "text": [
      "| epoch 4 |  iter 501 / 1327 | time 1385[s] | perplexity 105.97\n"
     ]
    },
    {
     "name": "stdout",
     "output_type": "stream",
     "text": [
      "| epoch 4 |  iter 521 / 1327 | time 1392[s] | perplexity 114.66\n"
     ]
    },
    {
     "name": "stdout",
     "output_type": "stream",
     "text": [
      "| epoch 4 |  iter 541 / 1327 | time 1398[s] | perplexity 110.83\n"
     ]
    },
    {
     "name": "stdout",
     "output_type": "stream",
     "text": [
      "| epoch 4 |  iter 561 / 1327 | time 1404[s] | perplexity 101.36\n"
     ]
    },
    {
     "name": "stdout",
     "output_type": "stream",
     "text": [
      "| epoch 4 |  iter 581 / 1327 | time 1410[s] | perplexity 87.83\n"
     ]
    },
    {
     "name": "stdout",
     "output_type": "stream",
     "text": [
      "| epoch 4 |  iter 601 / 1327 | time 1416[s] | perplexity 125.32\n"
     ]
    },
    {
     "name": "stdout",
     "output_type": "stream",
     "text": [
      "| epoch 4 |  iter 621 / 1327 | time 1422[s] | perplexity 119.58\n"
     ]
    },
    {
     "name": "stdout",
     "output_type": "stream",
     "text": [
      "| epoch 4 |  iter 641 / 1327 | time 1429[s] | perplexity 107.84\n"
     ]
    },
    {
     "name": "stdout",
     "output_type": "stream",
     "text": [
      "| epoch 4 |  iter 661 / 1327 | time 1435[s] | perplexity 100.10\n"
     ]
    },
    {
     "name": "stdout",
     "output_type": "stream",
     "text": [
      "| epoch 4 |  iter 681 / 1327 | time 1441[s] | perplexity 84.22\n"
     ]
    },
    {
     "name": "stdout",
     "output_type": "stream",
     "text": [
      "| epoch 4 |  iter 701 / 1327 | time 1447[s] | perplexity 100.38\n"
     ]
    },
    {
     "name": "stdout",
     "output_type": "stream",
     "text": [
      "| epoch 4 |  iter 721 / 1327 | time 1453[s] | perplexity 105.19\n"
     ]
    },
    {
     "name": "stdout",
     "output_type": "stream",
     "text": [
      "| epoch 4 |  iter 741 / 1327 | time 1459[s] | perplexity 93.86\n"
     ]
    },
    {
     "name": "stdout",
     "output_type": "stream",
     "text": [
      "| epoch 4 |  iter 761 / 1327 | time 1465[s] | perplexity 87.27\n"
     ]
    },
    {
     "name": "stdout",
     "output_type": "stream",
     "text": [
      "| epoch 4 |  iter 781 / 1327 | time 1471[s] | perplexity 86.15\n"
     ]
    },
    {
     "name": "stdout",
     "output_type": "stream",
     "text": [
      "| epoch 4 |  iter 801 / 1327 | time 1477[s] | perplexity 97.32\n"
     ]
    },
    {
     "name": "stdout",
     "output_type": "stream",
     "text": [
      "| epoch 4 |  iter 821 / 1327 | time 1483[s] | perplexity 101.43\n"
     ]
    },
    {
     "name": "stdout",
     "output_type": "stream",
     "text": [
      "| epoch 4 |  iter 841 / 1327 | time 1490[s] | perplexity 96.12\n"
     ]
    },
    {
     "name": "stdout",
     "output_type": "stream",
     "text": [
      "| epoch 4 |  iter 861 / 1327 | time 1496[s] | perplexity 102.51\n"
     ]
    },
    {
     "name": "stdout",
     "output_type": "stream",
     "text": [
      "| epoch 4 |  iter 881 / 1327 | time 1502[s] | perplexity 90.96\n"
     ]
    },
    {
     "name": "stdout",
     "output_type": "stream",
     "text": [
      "| epoch 4 |  iter 901 / 1327 | time 1508[s] | perplexity 111.96\n"
     ]
    },
    {
     "name": "stdout",
     "output_type": "stream",
     "text": [
      "| epoch 4 |  iter 921 / 1327 | time 1514[s] | perplexity 101.35\n"
     ]
    },
    {
     "name": "stdout",
     "output_type": "stream",
     "text": [
      "| epoch 4 |  iter 941 / 1327 | time 1520[s] | perplexity 110.62\n"
     ]
    },
    {
     "name": "stdout",
     "output_type": "stream",
     "text": [
      "| epoch 4 |  iter 961 / 1327 | time 1527[s] | perplexity 110.85\n"
     ]
    },
    {
     "name": "stdout",
     "output_type": "stream",
     "text": [
      "| epoch 4 |  iter 981 / 1327 | time 1533[s] | perplexity 105.01\n"
     ]
    },
    {
     "name": "stdout",
     "output_type": "stream",
     "text": [
      "| epoch 4 |  iter 1001 / 1327 | time 1539[s] | perplexity 94.25\n"
     ]
    },
    {
     "name": "stdout",
     "output_type": "stream",
     "text": [
      "| epoch 4 |  iter 1021 / 1327 | time 1545[s] | perplexity 111.60\n"
     ]
    },
    {
     "name": "stdout",
     "output_type": "stream",
     "text": [
      "| epoch 4 |  iter 1041 / 1327 | time 1551[s] | perplexity 103.20\n"
     ]
    },
    {
     "name": "stdout",
     "output_type": "stream",
     "text": [
      "| epoch 4 |  iter 1061 / 1327 | time 1557[s] | perplexity 87.60\n"
     ]
    },
    {
     "name": "stdout",
     "output_type": "stream",
     "text": [
      "| epoch 4 |  iter 1081 / 1327 | time 1563[s] | perplexity 77.75\n"
     ]
    },
    {
     "name": "stdout",
     "output_type": "stream",
     "text": [
      "| epoch 4 |  iter 1101 / 1327 | time 1570[s] | perplexity 78.91\n"
     ]
    },
    {
     "name": "stdout",
     "output_type": "stream",
     "text": [
      "| epoch 4 |  iter 1121 / 1327 | time 1576[s] | perplexity 101.56\n"
     ]
    },
    {
     "name": "stdout",
     "output_type": "stream",
     "text": [
      "| epoch 4 |  iter 1141 / 1327 | time 1583[s] | perplexity 98.03\n"
     ]
    },
    {
     "name": "stdout",
     "output_type": "stream",
     "text": [
      "| epoch 4 |  iter 1161 / 1327 | time 1590[s] | perplexity 90.04\n"
     ]
    },
    {
     "name": "stdout",
     "output_type": "stream",
     "text": [
      "| epoch 4 |  iter 1181 / 1327 | time 1596[s] | perplexity 95.02\n"
     ]
    },
    {
     "name": "stdout",
     "output_type": "stream",
     "text": [
      "| epoch 4 |  iter 1201 / 1327 | time 1603[s] | perplexity 81.65\n"
     ]
    },
    {
     "name": "stdout",
     "output_type": "stream",
     "text": [
      "| epoch 4 |  iter 1221 / 1327 | time 1610[s] | perplexity 74.23\n"
     ]
    },
    {
     "name": "stdout",
     "output_type": "stream",
     "text": [
      "| epoch 4 |  iter 1241 / 1327 | time 1617[s] | perplexity 91.02\n"
     ]
    },
    {
     "name": "stdout",
     "output_type": "stream",
     "text": [
      "| epoch 4 |  iter 1261 / 1327 | time 1624[s] | perplexity 93.26\n"
     ]
    },
    {
     "name": "stdout",
     "output_type": "stream",
     "text": [
      "| epoch 4 |  iter 1281 / 1327 | time 1630[s] | perplexity 87.94\n"
     ]
    },
    {
     "name": "stdout",
     "output_type": "stream",
     "text": [
      "| epoch 4 |  iter 1301 / 1327 | time 1637[s] | perplexity 110.22\n"
     ]
    },
    {
     "name": "stdout",
     "output_type": "stream",
     "text": [
      "| epoch 4 |  iter 1321 / 1327 | time 1644[s] | perplexity 106.87\n"
     ]
    },
    {
     "data": {
      "image/png": "[encoded data removed]",
      "text/plain": [
       "<Figure size 432x288 with 1 Axes>"
      ]
     },
     "metadata": {},
     "output_type": "display_data"
    },
    {
     "name": "stdout",
     "output_type": "stream",
     "text": [
      "evaluating perplexity ...\n\r0 / 235"
     ]
    },
    {
     "name": "stdout",
     "output_type": "stream",
     "text": [
      "\r1 / 235"
     ]
    },
    {
     "name": "stdout",
     "output_type": "stream",
     "text": [
      "\r2 / 235"
     ]
    },
    {
     "name": "stdout",
     "output_type": "stream",
     "text": [
      "\r3 / 235"
     ]
    },
    {
     "name": "stdout",
     "output_type": "stream",
     "text": [
      "\r4 / 235"
     ]
    },
    {
     "name": "stdout",
     "output_type": "stream",
     "text": [
      "\r5 / 235"
     ]
    },
    {
     "name": "stdout",
     "output_type": "stream",
     "text": [
      "\r6 / 235"
     ]
    },
    {
     "name": "stdout",
     "output_type": "stream",
     "text": [
      "\r7 / 235"
     ]
    },
    {
     "name": "stdout",
     "output_type": "stream",
     "text": [
      "\r8 / 235"
     ]
    },
    {
     "name": "stdout",
     "output_type": "stream",
     "text": [
      "\r9 / 235"
     ]
    },
    {
     "name": "stdout",
     "output_type": "stream",
     "text": [
      "\r10 / 235"
     ]
    },
    {
     "name": "stdout",
     "output_type": "stream",
     "text": [
      "\r11 / 235"
     ]
    },
    {
     "name": "stdout",
     "output_type": "stream",
     "text": [
      "\r12 / 235"
     ]
    },
    {
     "name": "stdout",
     "output_type": "stream",
     "text": [
      "\r13 / 235"
     ]
    },
    {
     "name": "stdout",
     "output_type": "stream",
     "text": [
      "\r14 / 235"
     ]
    },
    {
     "name": "stdout",
     "output_type": "stream",
     "text": [
      "\r15 / 235"
     ]
    },
    {
     "name": "stdout",
     "output_type": "stream",
     "text": [
      "\r16 / 235"
     ]
    },
    {
     "name": "stdout",
     "output_type": "stream",
     "text": [
      "\r17 / 235"
     ]
    },
    {
     "name": "stdout",
     "output_type": "stream",
     "text": [
      "\r18 / 235"
     ]
    },
    {
     "name": "stdout",
     "output_type": "stream",
     "text": [
      "\r19 / 235"
     ]
    },
    {
     "name": "stdout",
     "output_type": "stream",
     "text": [
      "\r20 / 235"
     ]
    },
    {
     "name": "stdout",
     "output_type": "stream",
     "text": [
      "\r21 / 235"
     ]
    },
    {
     "name": "stdout",
     "output_type": "stream",
     "text": [
      "\r22 / 235"
     ]
    },
    {
     "name": "stdout",
     "output_type": "stream",
     "text": [
      "\r23 / 235"
     ]
    },
    {
     "name": "stdout",
     "output_type": "stream",
     "text": [
      "\r24 / 235"
     ]
    },
    {
     "name": "stdout",
     "output_type": "stream",
     "text": [
      "\r25 / 235"
     ]
    },
    {
     "name": "stdout",
     "output_type": "stream",
     "text": [
      "\r26 / 235"
     ]
    },
    {
     "name": "stdout",
     "output_type": "stream",
     "text": [
      "\r27 / 235"
     ]
    },
    {
     "name": "stdout",
     "output_type": "stream",
     "text": [
      "\r28 / 235"
     ]
    },
    {
     "name": "stdout",
     "output_type": "stream",
     "text": [
      "\r29 / 235"
     ]
    },
    {
     "name": "stdout",
     "output_type": "stream",
     "text": [
      "\r30 / 235"
     ]
    },
    {
     "name": "stdout",
     "output_type": "stream",
     "text": [
      "\r31 / 235"
     ]
    },
    {
     "name": "stdout",
     "output_type": "stream",
     "text": [
      "\r32 / 235"
     ]
    },
    {
     "name": "stdout",
     "output_type": "stream",
     "text": [
      "\r33 / 235"
     ]
    },
    {
     "name": "stdout",
     "output_type": "stream",
     "text": [
      "\r34 / 235"
     ]
    },
    {
     "name": "stdout",
     "output_type": "stream",
     "text": [
      "\r35 / 235"
     ]
    },
    {
     "name": "stdout",
     "output_type": "stream",
     "text": [
      "\r36 / 235"
     ]
    },
    {
     "name": "stdout",
     "output_type": "stream",
     "text": [
      "\r37 / 235"
     ]
    },
    {
     "name": "stdout",
     "output_type": "stream",
     "text": [
      "\r38 / 235"
     ]
    },
    {
     "name": "stdout",
     "output_type": "stream",
     "text": [
      "\r39 / 235"
     ]
    },
    {
     "name": "stdout",
     "output_type": "stream",
     "text": [
      "\r40 / 235"
     ]
    },
    {
     "name": "stdout",
     "output_type": "stream",
     "text": [
      "\r41 / 235"
     ]
    },
    {
     "name": "stdout",
     "output_type": "stream",
     "text": [
      "\r42 / 235"
     ]
    },
    {
     "name": "stdout",
     "output_type": "stream",
     "text": [
      "\r43 / 235"
     ]
    },
    {
     "name": "stdout",
     "output_type": "stream",
     "text": [
      "\r44 / 235"
     ]
    },
    {
     "name": "stdout",
     "output_type": "stream",
     "text": [
      "\r45 / 235"
     ]
    },
    {
     "name": "stdout",
     "output_type": "stream",
     "text": [
      "\r46 / 235"
     ]
    },
    {
     "name": "stdout",
     "output_type": "stream",
     "text": [
      "\r47 / 235"
     ]
    },
    {
     "name": "stdout",
     "output_type": "stream",
     "text": [
      "\r48 / 235"
     ]
    },
    {
     "name": "stdout",
     "output_type": "stream",
     "text": [
      "\r49 / 235"
     ]
    },
    {
     "name": "stdout",
     "output_type": "stream",
     "text": [
      "\r50 / 235"
     ]
    },
    {
     "name": "stdout",
     "output_type": "stream",
     "text": [
      "\r51 / 235"
     ]
    },
    {
     "name": "stdout",
     "output_type": "stream",
     "text": [
      "\r52 / 235"
     ]
    },
    {
     "name": "stdout",
     "output_type": "stream",
     "text": [
      "\r53 / 235"
     ]
    },
    {
     "name": "stdout",
     "output_type": "stream",
     "text": [
      "\r54 / 235"
     ]
    },
    {
     "name": "stdout",
     "output_type": "stream",
     "text": [
      "\r55 / 235"
     ]
    },
    {
     "name": "stdout",
     "output_type": "stream",
     "text": [
      "\r56 / 235"
     ]
    },
    {
     "name": "stdout",
     "output_type": "stream",
     "text": [
      "\r57 / 235"
     ]
    },
    {
     "name": "stdout",
     "output_type": "stream",
     "text": [
      "\r58 / 235"
     ]
    },
    {
     "name": "stdout",
     "output_type": "stream",
     "text": [
      "\r59 / 235"
     ]
    },
    {
     "name": "stdout",
     "output_type": "stream",
     "text": [
      "\r60 / 235"
     ]
    },
    {
     "name": "stdout",
     "output_type": "stream",
     "text": [
      "\r61 / 235"
     ]
    },
    {
     "name": "stdout",
     "output_type": "stream",
     "text": [
      "\r62 / 235"
     ]
    },
    {
     "name": "stdout",
     "output_type": "stream",
     "text": [
      "\r63 / 235"
     ]
    },
    {
     "name": "stdout",
     "output_type": "stream",
     "text": [
      "\r64 / 235"
     ]
    },
    {
     "name": "stdout",
     "output_type": "stream",
     "text": [
      "\r65 / 235"
     ]
    },
    {
     "name": "stdout",
     "output_type": "stream",
     "text": [
      "\r66 / 235"
     ]
    },
    {
     "name": "stdout",
     "output_type": "stream",
     "text": [
      "\r67 / 235"
     ]
    },
    {
     "name": "stdout",
     "output_type": "stream",
     "text": [
      "\r68 / 235"
     ]
    },
    {
     "name": "stdout",
     "output_type": "stream",
     "text": [
      "\r69 / 235"
     ]
    },
    {
     "name": "stdout",
     "output_type": "stream",
     "text": [
      "\r70 / 235"
     ]
    },
    {
     "name": "stdout",
     "output_type": "stream",
     "text": [
      "\r71 / 235"
     ]
    },
    {
     "name": "stdout",
     "output_type": "stream",
     "text": [
      "\r72 / 235"
     ]
    },
    {
     "name": "stdout",
     "output_type": "stream",
     "text": [
      "\r73 / 235"
     ]
    },
    {
     "name": "stdout",
     "output_type": "stream",
     "text": [
      "\r74 / 235"
     ]
    },
    {
     "name": "stdout",
     "output_type": "stream",
     "text": [
      "\r75 / 235"
     ]
    },
    {
     "name": "stdout",
     "output_type": "stream",
     "text": [
      "\r76 / 235"
     ]
    },
    {
     "name": "stdout",
     "output_type": "stream",
     "text": [
      "\r77 / 235"
     ]
    },
    {
     "name": "stdout",
     "output_type": "stream",
     "text": [
      "\r78 / 235"
     ]
    },
    {
     "name": "stdout",
     "output_type": "stream",
     "text": [
      "\r79 / 235"
     ]
    },
    {
     "name": "stdout",
     "output_type": "stream",
     "text": [
      "\r80 / 235"
     ]
    },
    {
     "name": "stdout",
     "output_type": "stream",
     "text": [
      "\r81 / 235"
     ]
    },
    {
     "name": "stdout",
     "output_type": "stream",
     "text": [
      "\r82 / 235"
     ]
    },
    {
     "name": "stdout",
     "output_type": "stream",
     "text": [
      "\r83 / 235"
     ]
    },
    {
     "name": "stdout",
     "output_type": "stream",
     "text": [
      "\r84 / 235"
     ]
    },
    {
     "name": "stdout",
     "output_type": "stream",
     "text": [
      "\r85 / 235"
     ]
    },
    {
     "name": "stdout",
     "output_type": "stream",
     "text": [
      "\r86 / 235"
     ]
    },
    {
     "name": "stdout",
     "output_type": "stream",
     "text": [
      "\r87 / 235"
     ]
    },
    {
     "name": "stdout",
     "output_type": "stream",
     "text": [
      "\r88 / 235"
     ]
    },
    {
     "name": "stdout",
     "output_type": "stream",
     "text": [
      "\r89 / 235"
     ]
    },
    {
     "name": "stdout",
     "output_type": "stream",
     "text": [
      "\r90 / 235"
     ]
    },
    {
     "name": "stdout",
     "output_type": "stream",
     "text": [
      "\r91 / 235"
     ]
    },
    {
     "name": "stdout",
     "output_type": "stream",
     "text": [
      "\r92 / 235"
     ]
    },
    {
     "name": "stdout",
     "output_type": "stream",
     "text": [
      "\r93 / 235"
     ]
    },
    {
     "name": "stdout",
     "output_type": "stream",
     "text": [
      "\r94 / 235"
     ]
    },
    {
     "name": "stdout",
     "output_type": "stream",
     "text": [
      "\r95 / 235"
     ]
    },
    {
     "name": "stdout",
     "output_type": "stream",
     "text": [
      "\r96 / 235"
     ]
    },
    {
     "name": "stdout",
     "output_type": "stream",
     "text": [
      "\r97 / 235"
     ]
    },
    {
     "name": "stdout",
     "output_type": "stream",
     "text": [
      "\r98 / 235"
     ]
    },
    {
     "name": "stdout",
     "output_type": "stream",
     "text": [
      "\r99 / 235"
     ]
    },
    {
     "name": "stdout",
     "output_type": "stream",
     "text": [
      "\r100 / 235"
     ]
    },
    {
     "name": "stdout",
     "output_type": "stream",
     "text": [
      "\r101 / 235"
     ]
    },
    {
     "name": "stdout",
     "output_type": "stream",
     "text": [
      "\r102 / 235"
     ]
    },
    {
     "name": "stdout",
     "output_type": "stream",
     "text": [
      "\r103 / 235"
     ]
    },
    {
     "name": "stdout",
     "output_type": "stream",
     "text": [
      "\r104 / 235"
     ]
    },
    {
     "name": "stdout",
     "output_type": "stream",
     "text": [
      "\r105 / 235"
     ]
    },
    {
     "name": "stdout",
     "output_type": "stream",
     "text": [
      "\r106 / 235"
     ]
    },
    {
     "name": "stdout",
     "output_type": "stream",
     "text": [
      "\r107 / 235"
     ]
    },
    {
     "name": "stdout",
     "output_type": "stream",
     "text": [
      "\r108 / 235"
     ]
    },
    {
     "name": "stdout",
     "output_type": "stream",
     "text": [
      "\r109 / 235"
     ]
    },
    {
     "name": "stdout",
     "output_type": "stream",
     "text": [
      "\r110 / 235"
     ]
    },
    {
     "name": "stdout",
     "output_type": "stream",
     "text": [
      "\r111 / 235"
     ]
    },
    {
     "name": "stdout",
     "output_type": "stream",
     "text": [
      "\r112 / 235"
     ]
    },
    {
     "name": "stdout",
     "output_type": "stream",
     "text": [
      "\r113 / 235"
     ]
    },
    {
     "name": "stdout",
     "output_type": "stream",
     "text": [
      "\r114 / 235"
     ]
    },
    {
     "name": "stdout",
     "output_type": "stream",
     "text": [
      "\r115 / 235"
     ]
    },
    {
     "name": "stdout",
     "output_type": "stream",
     "text": [
      "\r116 / 235"
     ]
    },
    {
     "name": "stdout",
     "output_type": "stream",
     "text": [
      "\r117 / 235"
     ]
    },
    {
     "name": "stdout",
     "output_type": "stream",
     "text": [
      "\r118 / 235"
     ]
    },
    {
     "name": "stdout",
     "output_type": "stream",
     "text": [
      "\r119 / 235"
     ]
    },
    {
     "name": "stdout",
     "output_type": "stream",
     "text": [
      "\r120 / 235"
     ]
    },
    {
     "name": "stdout",
     "output_type": "stream",
     "text": [
      "\r121 / 235"
     ]
    },
    {
     "name": "stdout",
     "output_type": "stream",
     "text": [
      "\r122 / 235"
     ]
    },
    {
     "name": "stdout",
     "output_type": "stream",
     "text": [
      "\r123 / 235"
     ]
    },
    {
     "name": "stdout",
     "output_type": "stream",
     "text": [
      "\r124 / 235"
     ]
    },
    {
     "name": "stdout",
     "output_type": "stream",
     "text": [
      "\r125 / 235"
     ]
    },
    {
     "name": "stdout",
     "output_type": "stream",
     "text": [
      "\r126 / 235"
     ]
    },
    {
     "name": "stdout",
     "output_type": "stream",
     "text": [
      "\r127 / 235"
     ]
    },
    {
     "name": "stdout",
     "output_type": "stream",
     "text": [
      "\r128 / 235"
     ]
    },
    {
     "name": "stdout",
     "output_type": "stream",
     "text": [
      "\r129 / 235"
     ]
    },
    {
     "name": "stdout",
     "output_type": "stream",
     "text": [
      "\r130 / 235"
     ]
    },
    {
     "name": "stdout",
     "output_type": "stream",
     "text": [
      "\r131 / 235"
     ]
    },
    {
     "name": "stdout",
     "output_type": "stream",
     "text": [
      "\r132 / 235"
     ]
    },
    {
     "name": "stdout",
     "output_type": "stream",
     "text": [
      "\r133 / 235"
     ]
    },
    {
     "name": "stdout",
     "output_type": "stream",
     "text": [
      "\r134 / 235"
     ]
    },
    {
     "name": "stdout",
     "output_type": "stream",
     "text": [
      "\r135 / 235"
     ]
    },
    {
     "name": "stdout",
     "output_type": "stream",
     "text": [
      "\r136 / 235"
     ]
    },
    {
     "name": "stdout",
     "output_type": "stream",
     "text": [
      "\r137 / 235"
     ]
    },
    {
     "name": "stdout",
     "output_type": "stream",
     "text": [
      "\r138 / 235"
     ]
    },
    {
     "name": "stdout",
     "output_type": "stream",
     "text": [
      "\r139 / 235"
     ]
    },
    {
     "name": "stdout",
     "output_type": "stream",
     "text": [
      "\r140 / 235"
     ]
    },
    {
     "name": "stdout",
     "output_type": "stream",
     "text": [
      "\r141 / 235"
     ]
    },
    {
     "name": "stdout",
     "output_type": "stream",
     "text": [
      "\r142 / 235"
     ]
    },
    {
     "name": "stdout",
     "output_type": "stream",
     "text": [
      "\r143 / 235"
     ]
    },
    {
     "name": "stdout",
     "output_type": "stream",
     "text": [
      "\r144 / 235"
     ]
    },
    {
     "name": "stdout",
     "output_type": "stream",
     "text": [
      "\r145 / 235"
     ]
    },
    {
     "name": "stdout",
     "output_type": "stream",
     "text": [
      "\r146 / 235"
     ]
    },
    {
     "name": "stdout",
     "output_type": "stream",
     "text": [
      "\r147 / 235"
     ]
    },
    {
     "name": "stdout",
     "output_type": "stream",
     "text": [
      "\r148 / 235"
     ]
    },
    {
     "name": "stdout",
     "output_type": "stream",
     "text": [
      "\r149 / 235"
     ]
    },
    {
     "name": "stdout",
     "output_type": "stream",
     "text": [
      "\r150 / 235"
     ]
    },
    {
     "name": "stdout",
     "output_type": "stream",
     "text": [
      "\r151 / 235"
     ]
    },
    {
     "name": "stdout",
     "output_type": "stream",
     "text": [
      "\r152 / 235"
     ]
    },
    {
     "name": "stdout",
     "output_type": "stream",
     "text": [
      "\r153 / 235"
     ]
    },
    {
     "name": "stdout",
     "output_type": "stream",
     "text": [
      "\r154 / 235"
     ]
    },
    {
     "name": "stdout",
     "output_type": "stream",
     "text": [
      "\r155 / 235"
     ]
    },
    {
     "name": "stdout",
     "output_type": "stream",
     "text": [
      "\r156 / 235"
     ]
    },
    {
     "name": "stdout",
     "output_type": "stream",
     "text": [
      "\r157 / 235"
     ]
    },
    {
     "name": "stdout",
     "output_type": "stream",
     "text": [
      "\r158 / 235"
     ]
    },
    {
     "name": "stdout",
     "output_type": "stream",
     "text": [
      "\r159 / 235"
     ]
    },
    {
     "name": "stdout",
     "output_type": "stream",
     "text": [
      "\r160 / 235"
     ]
    },
    {
     "name": "stdout",
     "output_type": "stream",
     "text": [
      "\r161 / 235"
     ]
    },
    {
     "name": "stdout",
     "output_type": "stream",
     "text": [
      "\r162 / 235"
     ]
    },
    {
     "name": "stdout",
     "output_type": "stream",
     "text": [
      "\r163 / 235"
     ]
    },
    {
     "name": "stdout",
     "output_type": "stream",
     "text": [
      "\r164 / 235"
     ]
    },
    {
     "name": "stdout",
     "output_type": "stream",
     "text": [
      "\r165 / 235"
     ]
    },
    {
     "name": "stdout",
     "output_type": "stream",
     "text": [
      "\r166 / 235"
     ]
    },
    {
     "name": "stdout",
     "output_type": "stream",
     "text": [
      "\r167 / 235"
     ]
    },
    {
     "name": "stdout",
     "output_type": "stream",
     "text": [
      "\r168 / 235"
     ]
    },
    {
     "name": "stdout",
     "output_type": "stream",
     "text": [
      "\r169 / 235"
     ]
    },
    {
     "name": "stdout",
     "output_type": "stream",
     "text": [
      "\r170 / 235"
     ]
    },
    {
     "name": "stdout",
     "output_type": "stream",
     "text": [
      "\r171 / 235"
     ]
    },
    {
     "name": "stdout",
     "output_type": "stream",
     "text": [
      "\r172 / 235"
     ]
    },
    {
     "name": "stdout",
     "output_type": "stream",
     "text": [
      "\r173 / 235"
     ]
    },
    {
     "name": "stdout",
     "output_type": "stream",
     "text": [
      "\r174 / 235"
     ]
    },
    {
     "name": "stdout",
     "output_type": "stream",
     "text": [
      "\r175 / 235"
     ]
    },
    {
     "name": "stdout",
     "output_type": "stream",
     "text": [
      "\r176 / 235"
     ]
    },
    {
     "name": "stdout",
     "output_type": "stream",
     "text": [
      "\r177 / 235"
     ]
    },
    {
     "name": "stdout",
     "output_type": "stream",
     "text": [
      "\r178 / 235"
     ]
    },
    {
     "name": "stdout",
     "output_type": "stream",
     "text": [
      "\r179 / 235"
     ]
    },
    {
     "name": "stdout",
     "output_type": "stream",
     "text": [
      "\r180 / 235"
     ]
    },
    {
     "name": "stdout",
     "output_type": "stream",
     "text": [
      "\r181 / 235"
     ]
    },
    {
     "name": "stdout",
     "output_type": "stream",
     "text": [
      "\r182 / 235"
     ]
    },
    {
     "name": "stdout",
     "output_type": "stream",
     "text": [
      "\r183 / 235"
     ]
    },
    {
     "name": "stdout",
     "output_type": "stream",
     "text": [
      "\r184 / 235"
     ]
    },
    {
     "name": "stdout",
     "output_type": "stream",
     "text": [
      "\r185 / 235"
     ]
    },
    {
     "name": "stdout",
     "output_type": "stream",
     "text": [
      "\r186 / 235"
     ]
    },
    {
     "name": "stdout",
     "output_type": "stream",
     "text": [
      "\r187 / 235"
     ]
    },
    {
     "name": "stdout",
     "output_type": "stream",
     "text": [
      "\r188 / 235"
     ]
    },
    {
     "name": "stdout",
     "output_type": "stream",
     "text": [
      "\r189 / 235"
     ]
    },
    {
     "name": "stdout",
     "output_type": "stream",
     "text": [
      "\r190 / 235"
     ]
    },
    {
     "name": "stdout",
     "output_type": "stream",
     "text": [
      "\r191 / 235"
     ]
    },
    {
     "name": "stdout",
     "output_type": "stream",
     "text": [
      "\r192 / 235"
     ]
    },
    {
     "name": "stdout",
     "output_type": "stream",
     "text": [
      "\r193 / 235"
     ]
    },
    {
     "name": "stdout",
     "output_type": "stream",
     "text": [
      "\r194 / 235"
     ]
    },
    {
     "name": "stdout",
     "output_type": "stream",
     "text": [
      "\r195 / 235"
     ]
    },
    {
     "name": "stdout",
     "output_type": "stream",
     "text": [
      "\r196 / 235"
     ]
    },
    {
     "name": "stdout",
     "output_type": "stream",
     "text": [
      "\r197 / 235"
     ]
    },
    {
     "name": "stdout",
     "output_type": "stream",
     "text": [
      "\r198 / 235"
     ]
    },
    {
     "name": "stdout",
     "output_type": "stream",
     "text": [
      "\r199 / 235"
     ]
    },
    {
     "name": "stdout",
     "output_type": "stream",
     "text": [
      "\r200 / 235"
     ]
    },
    {
     "name": "stdout",
     "output_type": "stream",
     "text": [
      "\r201 / 235"
     ]
    },
    {
     "name": "stdout",
     "output_type": "stream",
     "text": [
      "\r202 / 235"
     ]
    },
    {
     "name": "stdout",
     "output_type": "stream",
     "text": [
      "\r203 / 235"
     ]
    },
    {
     "name": "stdout",
     "output_type": "stream",
     "text": [
      "\r204 / 235"
     ]
    },
    {
     "name": "stdout",
     "output_type": "stream",
     "text": [
      "\r205 / 235"
     ]
    },
    {
     "name": "stdout",
     "output_type": "stream",
     "text": [
      "\r206 / 235"
     ]
    },
    {
     "name": "stdout",
     "output_type": "stream",
     "text": [
      "\r207 / 235"
     ]
    },
    {
     "name": "stdout",
     "output_type": "stream",
     "text": [
      "\r208 / 235"
     ]
    },
    {
     "name": "stdout",
     "output_type": "stream",
     "text": [
      "\r209 / 235"
     ]
    },
    {
     "name": "stdout",
     "output_type": "stream",
     "text": [
      "\r210 / 235"
     ]
    },
    {
     "name": "stdout",
     "output_type": "stream",
     "text": [
      "\r211 / 235"
     ]
    },
    {
     "name": "stdout",
     "output_type": "stream",
     "text": [
      "\r212 / 235"
     ]
    },
    {
     "name": "stdout",
     "output_type": "stream",
     "text": [
      "\r213 / 235"
     ]
    },
    {
     "name": "stdout",
     "output_type": "stream",
     "text": [
      "\r214 / 235"
     ]
    },
    {
     "name": "stdout",
     "output_type": "stream",
     "text": [
      "\r215 / 235"
     ]
    },
    {
     "name": "stdout",
     "output_type": "stream",
     "text": [
      "\r216 / 235"
     ]
    },
    {
     "name": "stdout",
     "output_type": "stream",
     "text": [
      "\r217 / 235"
     ]
    },
    {
     "name": "stdout",
     "output_type": "stream",
     "text": [
      "\r218 / 235"
     ]
    },
    {
     "name": "stdout",
     "output_type": "stream",
     "text": [
      "\r219 / 235"
     ]
    },
    {
     "name": "stdout",
     "output_type": "stream",
     "text": [
      "\r220 / 235"
     ]
    },
    {
     "name": "stdout",
     "output_type": "stream",
     "text": [
      "\r221 / 235"
     ]
    },
    {
     "name": "stdout",
     "output_type": "stream",
     "text": [
      "\r222 / 235"
     ]
    },
    {
     "name": "stdout",
     "output_type": "stream",
     "text": [
      "\r223 / 235"
     ]
    },
    {
     "name": "stdout",
     "output_type": "stream",
     "text": [
      "\r224 / 235"
     ]
    },
    {
     "name": "stdout",
     "output_type": "stream",
     "text": [
      "\r225 / 235"
     ]
    },
    {
     "name": "stdout",
     "output_type": "stream",
     "text": [
      "\r226 / 235"
     ]
    },
    {
     "name": "stdout",
     "output_type": "stream",
     "text": [
      "\r227 / 235"
     ]
    },
    {
     "name": "stdout",
     "output_type": "stream",
     "text": [
      "\r228 / 235"
     ]
    },
    {
     "name": "stdout",
     "output_type": "stream",
     "text": [
      "\r229 / 235"
     ]
    },
    {
     "name": "stdout",
     "output_type": "stream",
     "text": [
      "\r230 / 235"
     ]
    },
    {
     "name": "stdout",
     "output_type": "stream",
     "text": [
      "\r231 / 235"
     ]
    },
    {
     "name": "stdout",
     "output_type": "stream",
     "text": [
      "\r232 / 235"
     ]
    },
    {
     "name": "stdout",
     "output_type": "stream",
     "text": [
      "\r233 / 235"
     ]
    },
    {
     "name": "stdout",
     "output_type": "stream",
     "text": [
      "\r234 / 235"
     ]
    },
    {
     "name": "stdout",
     "output_type": "stream",
     "text": [
      "\ntest perplexity:  133.54493388362522\n"
     ]
    }
   ],
   "source": [
    "import sys\n",
    "sys.path.append('..')\n",
    "from common.optimizer import SGD\n",
    "from common.trainer import RnnlmTrainer\n",
    "from common.util import eval_perplexity\n",
    "from dataset import ptb\n",
    "from ch06.rnnlm import Rnnlm\n",
    "\n",
    "batch_size = 20\n",
    "wordvec_size = 100\n",
    "hidden_size = 100\n",
    "time_size = 35\n",
    "lr = 20.0\n",
    "max_epoch = 4\n",
    "max_grad = 0.25\n",
    "\n",
    "\n",
    "corpus, word_to_id, id_to_word = ptb.load_data('train')\n",
    "corpus_test, _, _ = ptb.load_data('test')\n",
    "vocab_size = len(word_to_id)\n",
    "xs = corpus[:-1]\n",
    "ts = corpus[1:]\n",
    "\n",
    "model = Rnnlm(vocab_size, wordvec_size, hidden_size)\n",
    "optimizer = SGD(lr)\n",
    "trainer = RnnlmTrainer(model, optimizer)\n",
    "\n",
    "trainer.fit(xs, ts, max_epoch, batch_size, time_size, max_grad, eval_interval=20)\n",
    "trainer.plot(ylim=(0, 500))\n",
    "\n",
    "model.reset_state()\n",
    "ppl_test = eval_perplexity(model, corpus_test)\n",
    "print('test perplexity: ', ppl_test)\n",
    "\n",
    "model.save_params()\n"
   ]
  },
  {
   "cell_type": "code",
   "execution_count": 3,
   "metadata": {},
   "outputs": [],
   "source": [
    "import sys\n",
    "sys.path.append('..')\n",
    "from common.time_layers import *\n",
    "from common.np import *\n",
    "from common.base_model import BaseModel\n",
    "\n",
    "class BetterRnnlm(BaseModel):\n",
    "    def __init__(self, vocab_size=10000, wordvec_size=650, hidden_size=650, dropout_ratio=0.5):\n",
    "        V, D, H = vocab_size, wordvec_size, hidden_size\n",
    "        rn = np.random.randn\n",
    "        \n",
    "        embed_W = (rn(V, D) / 100).astype('f')\n",
    "        lstm_Wx1 =  (rn(D, 4 * H) / np.sqrt(D)).astype('f')\n",
    "        lstm_Wh1 = (rn(H, 4 * H) / np.sqrt(H)).astype('f')\n",
    "        lstm_b1 = np.zeros(4 * H).astype('f')\n",
    "        lstm_Wx2 = (rn(H, 4 * H) / np.sqrt(H)).astype('f')\n",
    "        lstm_Wh2 = (rn(H, 4 * H) / np.sqrt(H)).astype('f')\n",
    "        lstm_b2 = np.zeros(4 * H).astype('f')\n",
    "        affine_b = np.zeros(V).astype('f')\n",
    "        \n",
    "        self.layers = [\n",
    "            TimeEmbedding(embed_W),\n",
    "            TimeDropout(dropout_ratio),\n",
    "            TimeLSTM(lstm_Wx1, lstm_Wh1, lstm_b1, stateful=True),\n",
    "            TimeDropout(dropout_ratio),\n",
    "            TimeLSTM(lstm_Wx2, lstm_Wh2, lstm_b2, stateful=True),\n",
    "            TimeDropout(dropout_ratio),\n",
    "            TimeAffine(embed_W.T, affine_b)\n",
    "        ]\n",
    "        self.loss_layer = TimeSoftmaxWithLoss()\n",
    "        self.lstm_layers = [self.layers[2], self.layers[4]]\n",
    "        self.drop_layers = [self.layers[1], self.layers[3], self.layers[5]]\n",
    "        \n",
    "        self.params, self.grads = [], []\n",
    "        for layer in self.layers:\n",
    "            self.params += layer.params\n",
    "            self.grads += layer.grads\n",
    "            \n",
    "    def predict(self, xs, train_flg=False):\n",
    "        for layer in self.drop_layers:\n",
    "            layer.train_flg = train_flg\n",
    "        for layer in self.layers:\n",
    "            xs = layer.forward(xs)\n",
    "        return xs\n",
    "    \n",
    "    def forward(self, xs, ts, train_flg=True):\n",
    "        score = self.predict(xs, train_flg)\n",
    "        loss = self.loss_layer.forward(score, ts)\n",
    "        return loss\n",
    "    \n",
    "    def backward(self, dout=1):\n",
    "        dout = self.loss_layer.backward(dout)\n",
    "        for layer in reversed(self.layers):\n",
    "            dout = layer.backward(dout)\n",
    "        return dout\n",
    "    \n",
    "    def reset_state(self):\n",
    "        for layer in self.lstm_layers:\n",
    "            layer.reset_state()\n",
    "        \n"
   ]
  },
  {
   "cell_type": "code",
   "execution_count": 4,
   "metadata": {},
   "outputs": [
    {
     "name": "stdout",
     "output_type": "stream",
     "text": [
      "Downloading ptb.valid.txt ... \n"
     ]
    },
    {
     "name": "stdout",
     "output_type": "stream",
     "text": [
      "Done\n"
     ]
    },
    {
     "name": "stdout",
     "output_type": "stream",
     "text": [
      "| epoch 1 |  iter 1 / 1327 | time 3[s] | perplexity 9999.76\n"
     ]
    },
    {
     "name": "stdout",
     "output_type": "stream",
     "text": [
      "| epoch 1 |  iter 21 / 1327 | time 46[s] | perplexity 3724.62\n"
     ]
    },
    {
     "name": "stdout",
     "output_type": "stream",
     "text": [
      "| epoch 1 |  iter 41 / 1327 | time 89[s] | perplexity 1828.47\n"
     ]
    },
    {
     "name": "stdout",
     "output_type": "stream",
     "text": [
      "| epoch 1 |  iter 61 / 1327 | time 133[s] | perplexity 1350.23\n"
     ]
    },
    {
     "name": "stdout",
     "output_type": "stream",
     "text": [
      "| epoch 1 |  iter 81 / 1327 | time 177[s] | perplexity 1011.69\n"
     ]
    },
    {
     "name": "stdout",
     "output_type": "stream",
     "text": [
      "| epoch 1 |  iter 101 / 1327 | time 222[s] | perplexity 852.33\n"
     ]
    },
    {
     "name": "stdout",
     "output_type": "stream",
     "text": [
      "| epoch 1 |  iter 121 / 1327 | time 265[s] | perplexity 805.63\n"
     ]
    },
    {
     "name": "stdout",
     "output_type": "stream",
     "text": [
      "| epoch 1 |  iter 141 / 1327 | time 309[s] | perplexity 742.84\n"
     ]
    },
    {
     "name": "stdout",
     "output_type": "stream",
     "text": [
      "| epoch 1 |  iter 161 / 1327 | time 352[s] | perplexity 688.21\n"
     ]
    },
    {
     "name": "stdout",
     "output_type": "stream",
     "text": [
      "| epoch 1 |  iter 181 / 1327 | time 395[s] | perplexity 695.76\n"
     ]
    },
    {
     "name": "stdout",
     "output_type": "stream",
     "text": [
      "| epoch 1 |  iter 201 / 1327 | time 439[s] | perplexity 600.95\n"
     ]
    },
    {
     "name": "stdout",
     "output_type": "stream",
     "text": [
      "| epoch 1 |  iter 221 / 1327 | time 482[s] | perplexity 570.60\n"
     ]
    },
    {
     "name": "stdout",
     "output_type": "stream",
     "text": [
      "| epoch 1 |  iter 241 / 1327 | time 526[s] | perplexity 521.01\n"
     ]
    },
    {
     "name": "stdout",
     "output_type": "stream",
     "text": [
      "| epoch 1 |  iter 261 / 1327 | time 570[s] | perplexity 550.75\n"
     ]
    },
    {
     "name": "stdout",
     "output_type": "stream",
     "text": [
      "| epoch 1 |  iter 281 / 1327 | time 613[s] | perplexity 517.27\n"
     ]
    },
    {
     "name": "stdout",
     "output_type": "stream",
     "text": [
      "| epoch 1 |  iter 301 / 1327 | time 665[s] | perplexity 457.53\n"
     ]
    },
    {
     "name": "stdout",
     "output_type": "stream",
     "text": [
      "| epoch 1 |  iter 321 / 1327 | time 712[s] | perplexity 398.57\n"
     ]
    },
    {
     "name": "stdout",
     "output_type": "stream",
     "text": [
      "| epoch 1 |  iter 341 / 1327 | time 763[s] | perplexity 449.55\n"
     ]
    },
    {
     "name": "stdout",
     "output_type": "stream",
     "text": [
      "| epoch 1 |  iter 361 / 1327 | time 819[s] | perplexity 467.38\n"
     ]
    },
    {
     "name": "stdout",
     "output_type": "stream",
     "text": [
      "| epoch 1 |  iter 381 / 1327 | time 867[s] | perplexity 384.96\n"
     ]
    },
    {
     "name": "stdout",
     "output_type": "stream",
     "text": [
      "| epoch 1 |  iter 401 / 1327 | time 920[s] | perplexity 402.51\n"
     ]
    },
    {
     "name": "stdout",
     "output_type": "stream",
     "text": [
      "| epoch 1 |  iter 421 / 1327 | time 969[s] | perplexity 392.92\n"
     ]
    },
    {
     "name": "stdout",
     "output_type": "stream",
     "text": [
      "| epoch 1 |  iter 441 / 1327 | time 1020[s] | perplexity 378.34\n"
     ]
    },
    {
     "name": "stdout",
     "output_type": "stream",
     "text": [
      "| epoch 1 |  iter 461 / 1327 | time 1073[s] | perplexity 367.76\n"
     ]
    },
    {
     "name": "stdout",
     "output_type": "stream",
     "text": [
      "| epoch 1 |  iter 481 / 1327 | time 1122[s] | perplexity 349.09\n"
     ]
    },
    {
     "name": "stdout",
     "output_type": "stream",
     "text": [
      "| epoch 1 |  iter 501 / 1327 | time 1173[s] | perplexity 351.67\n"
     ]
    },
    {
     "name": "stdout",
     "output_type": "stream",
     "text": [
      "| epoch 1 |  iter 521 / 1327 | time 1221[s] | perplexity 340.07\n"
     ]
    },
    {
     "name": "stdout",
     "output_type": "stream",
     "text": [
      "| epoch 1 |  iter 541 / 1327 | time 1269[s] | perplexity 360.67\n"
     ]
    },
    {
     "name": "stdout",
     "output_type": "stream",
     "text": [
      "| epoch 1 |  iter 561 / 1327 | time 1317[s] | perplexity 320.51\n"
     ]
    },
    {
     "name": "stdout",
     "output_type": "stream",
     "text": [
      "| epoch 1 |  iter 581 / 1327 | time 1366[s] | perplexity 288.76\n"
     ]
    },
    {
     "name": "stdout",
     "output_type": "stream",
     "text": [
      "| epoch 1 |  iter 601 / 1327 | time 1416[s] | perplexity 373.38\n"
     ]
    },
    {
     "name": "stdout",
     "output_type": "stream",
     "text": [
      "| epoch 1 |  iter 621 / 1327 | time 1460[s] | perplexity 343.21\n"
     ]
    },
    {
     "name": "stdout",
     "output_type": "stream",
     "text": [
      "| epoch 1 |  iter 641 / 1327 | time 1504[s] | perplexity 312.36\n"
     ]
    },
    {
     "name": "stdout",
     "output_type": "stream",
     "text": [
      "| epoch 1 |  iter 661 / 1327 | time 1547[s] | perplexity 296.73\n"
     ]
    },
    {
     "name": "stdout",
     "output_type": "stream",
     "text": [
      "| epoch 1 |  iter 681 / 1327 | time 1591[s] | perplexity 254.30\n"
     ]
    },
    {
     "name": "stdout",
     "output_type": "stream",
     "text": [
      "| epoch 1 |  iter 701 / 1327 | time 1635[s] | perplexity 280.04\n"
     ]
    },
    {
     "name": "stdout",
     "output_type": "stream",
     "text": [
      "| epoch 1 |  iter 721 / 1327 | time 1678[s] | perplexity 288.53\n"
     ]
    },
    {
     "name": "stdout",
     "output_type": "stream",
     "text": [
      "| epoch 1 |  iter 741 / 1327 | time 1722[s] | perplexity 250.13\n"
     ]
    },
    {
     "name": "stdout",
     "output_type": "stream",
     "text": [
      "| epoch 1 |  iter 761 / 1327 | time 1766[s] | perplexity 260.51\n"
     ]
    },
    {
     "name": "stdout",
     "output_type": "stream",
     "text": [
      "| epoch 1 |  iter 781 / 1327 | time 1810[s] | perplexity 243.17\n"
     ]
    },
    {
     "name": "stdout",
     "output_type": "stream",
     "text": [
      "| epoch 1 |  iter 801 / 1327 | time 1854[s] | perplexity 267.65\n"
     ]
    },
    {
     "name": "stdout",
     "output_type": "stream",
     "text": [
      "| epoch 1 |  iter 821 / 1327 | time 1898[s] | perplexity 251.04\n"
     ]
    },
    {
     "name": "stdout",
     "output_type": "stream",
     "text": [
      "| epoch 1 |  iter 841 / 1327 | time 1942[s] | perplexity 257.28\n"
     ]
    },
    {
     "name": "stdout",
     "output_type": "stream",
     "text": [
      "| epoch 1 |  iter 861 / 1327 | time 1986[s] | perplexity 249.99\n"
     ]
    },
    {
     "name": "stdout",
     "output_type": "stream",
     "text": [
      "| epoch 1 |  iter 881 / 1327 | time 2030[s] | perplexity 230.83\n"
     ]
    },
    {
     "name": "stdout",
     "output_type": "stream",
     "text": [
      "| epoch 1 |  iter 901 / 1327 | time 2074[s] | perplexity 281.44\n"
     ]
    },
    {
     "name": "stdout",
     "output_type": "stream",
     "text": [
      "| epoch 1 |  iter 921 / 1327 | time 2118[s] | perplexity 254.84\n"
     ]
    },
    {
     "name": "stdout",
     "output_type": "stream",
     "text": [
      "| epoch 1 |  iter 941 / 1327 | time 2162[s] | perplexity 256.45\n"
     ]
    },
    {
     "name": "stdout",
     "output_type": "stream",
     "text": [
      "| epoch 1 |  iter 961 / 1327 | time 2205[s] | perplexity 273.40\n"
     ]
    },
    {
     "name": "stdout",
     "output_type": "stream",
     "text": [
      "| epoch 1 |  iter 981 / 1327 | time 2249[s] | perplexity 257.50\n"
     ]
    },
    {
     "name": "stdout",
     "output_type": "stream",
     "text": [
      "| epoch 1 |  iter 1001 / 1327 | time 2292[s] | perplexity 215.75\n"
     ]
    },
    {
     "name": "stdout",
     "output_type": "stream",
     "text": [
      "| epoch 1 |  iter 1021 / 1327 | time 2336[s] | perplexity 250.57\n"
     ]
    },
    {
     "name": "stdout",
     "output_type": "stream",
     "text": [
      "| epoch 1 |  iter 1041 / 1327 | time 2379[s] | perplexity 230.77\n"
     ]
    },
    {
     "name": "stdout",
     "output_type": "stream",
     "text": [
      "| epoch 1 |  iter 1061 / 1327 | time 2423[s] | perplexity 219.20\n"
     ]
    },
    {
     "name": "stdout",
     "output_type": "stream",
     "text": [
      "| epoch 1 |  iter 1081 / 1327 | time 2466[s] | perplexity 187.05\n"
     ]
    },
    {
     "name": "stdout",
     "output_type": "stream",
     "text": [
      "| epoch 1 |  iter 1101 / 1327 | time 2510[s] | perplexity 213.55\n"
     ]
    },
    {
     "name": "stdout",
     "output_type": "stream",
     "text": [
      "| epoch 1 |  iter 1121 / 1327 | time 2553[s] | perplexity 253.26\n"
     ]
    },
    {
     "name": "stdout",
     "output_type": "stream",
     "text": [
      "| epoch 1 |  iter 1141 / 1327 | time 2599[s] | perplexity 229.29\n"
     ]
    },
    {
     "name": "stdout",
     "output_type": "stream",
     "text": [
      "| epoch 1 |  iter 1161 / 1327 | time 2648[s] | perplexity 221.59\n"
     ]
    },
    {
     "name": "stdout",
     "output_type": "stream",
     "text": [
      "| epoch 1 |  iter 1181 / 1327 | time 2698[s] | perplexity 209.37\n"
     ]
    },
    {
     "name": "stdout",
     "output_type": "stream",
     "text": [
      "| epoch 1 |  iter 1201 / 1327 | time 2747[s] | perplexity 180.44\n"
     ]
    },
    {
     "name": "stdout",
     "output_type": "stream",
     "text": [
      "| epoch 1 |  iter 1221 / 1327 | time 2796[s] | perplexity 179.70\n"
     ]
    },
    {
     "name": "stdout",
     "output_type": "stream",
     "text": [
      "| epoch 1 |  iter 1241 / 1327 | time 2839[s] | perplexity 208.13\n"
     ]
    },
    {
     "name": "stdout",
     "output_type": "stream",
     "text": [
      "| epoch 1 |  iter 1261 / 1327 | time 2882[s] | perplexity 191.20\n"
     ]
    },
    {
     "name": "stdout",
     "output_type": "stream",
     "text": [
      "| epoch 1 |  iter 1281 / 1327 | time 2925[s] | perplexity 197.12\n"
     ]
    },
    {
     "name": "stdout",
     "output_type": "stream",
     "text": [
      "| epoch 1 |  iter 1301 / 1327 | time 2968[s] | perplexity 246.53\n"
     ]
    },
    {
     "name": "stdout",
     "output_type": "stream",
     "text": [
      "| epoch 1 |  iter 1321 / 1327 | time 3011[s] | perplexity 233.48\n"
     ]
    },
    {
     "name": "stdout",
     "output_type": "stream",
     "text": [
      "evaluating perplexity ...\n"
     ]
    },
    {
     "name": "stdout",
     "output_type": "stream",
     "text": [
      "\r0 / 210"
     ]
    },
    {
     "name": "stdout",
     "output_type": "stream",
     "text": [
      "\r1 / 210"
     ]
    },
    {
     "name": "stdout",
     "output_type": "stream",
     "text": [
      "\r2 / 210"
     ]
    },
    {
     "name": "stdout",
     "output_type": "stream",
     "text": [
      "\r3 / 210"
     ]
    },
    {
     "name": "stdout",
     "output_type": "stream",
     "text": [
      "\r4 / 210"
     ]
    },
    {
     "name": "stdout",
     "output_type": "stream",
     "text": [
      "\r5 / 210"
     ]
    },
    {
     "name": "stdout",
     "output_type": "stream",
     "text": [
      "\r6 / 210"
     ]
    },
    {
     "name": "stdout",
     "output_type": "stream",
     "text": [
      "\r7 / 210"
     ]
    },
    {
     "name": "stdout",
     "output_type": "stream",
     "text": [
      "\r8 / 210"
     ]
    },
    {
     "name": "stdout",
     "output_type": "stream",
     "text": [
      "\r9 / 210"
     ]
    },
    {
     "name": "stdout",
     "output_type": "stream",
     "text": [
      "\r10 / 210"
     ]
    },
    {
     "name": "stdout",
     "output_type": "stream",
     "text": [
      "\r11 / 210"
     ]
    },
    {
     "name": "stdout",
     "output_type": "stream",
     "text": [
      "\r12 / 210"
     ]
    },
    {
     "name": "stdout",
     "output_type": "stream",
     "text": [
      "\r13 / 210"
     ]
    },
    {
     "name": "stdout",
     "output_type": "stream",
     "text": [
      "\r14 / 210"
     ]
    },
    {
     "name": "stdout",
     "output_type": "stream",
     "text": [
      "\r15 / 210"
     ]
    },
    {
     "name": "stdout",
     "output_type": "stream",
     "text": [
      "\r16 / 210"
     ]
    },
    {
     "name": "stdout",
     "output_type": "stream",
     "text": [
      "\r17 / 210"
     ]
    },
    {
     "name": "stdout",
     "output_type": "stream",
     "text": [
      "\r18 / 210"
     ]
    },
    {
     "name": "stdout",
     "output_type": "stream",
     "text": [
      "\r19 / 210"
     ]
    },
    {
     "name": "stdout",
     "output_type": "stream",
     "text": [
      "\r20 / 210"
     ]
    },
    {
     "name": "stdout",
     "output_type": "stream",
     "text": [
      "\r21 / 210"
     ]
    },
    {
     "name": "stdout",
     "output_type": "stream",
     "text": [
      "\r22 / 210"
     ]
    },
    {
     "name": "stdout",
     "output_type": "stream",
     "text": [
      "\r23 / 210"
     ]
    },
    {
     "name": "stdout",
     "output_type": "stream",
     "text": [
      "\r24 / 210"
     ]
    },
    {
     "name": "stdout",
     "output_type": "stream",
     "text": [
      "\r25 / 210"
     ]
    },
    {
     "name": "stdout",
     "output_type": "stream",
     "text": [
      "\r26 / 210"
     ]
    },
    {
     "name": "stdout",
     "output_type": "stream",
     "text": [
      "\r27 / 210"
     ]
    },
    {
     "name": "stdout",
     "output_type": "stream",
     "text": [
      "\r28 / 210"
     ]
    },
    {
     "name": "stdout",
     "output_type": "stream",
     "text": [
      "\r29 / 210"
     ]
    },
    {
     "name": "stdout",
     "output_type": "stream",
     "text": [
      "\r30 / 210"
     ]
    },
    {
     "name": "stdout",
     "output_type": "stream",
     "text": [
      "\r31 / 210"
     ]
    },
    {
     "name": "stdout",
     "output_type": "stream",
     "text": [
      "\r32 / 210"
     ]
    },
    {
     "name": "stdout",
     "output_type": "stream",
     "text": [
      "\r33 / 210"
     ]
    },
    {
     "name": "stdout",
     "output_type": "stream",
     "text": [
      "\r34 / 210"
     ]
    },
    {
     "name": "stdout",
     "output_type": "stream",
     "text": [
      "\r35 / 210"
     ]
    },
    {
     "name": "stdout",
     "output_type": "stream",
     "text": [
      "\r36 / 210"
     ]
    },
    {
     "name": "stdout",
     "output_type": "stream",
     "text": [
      "\r37 / 210"
     ]
    },
    {
     "name": "stdout",
     "output_type": "stream",
     "text": [
      "\r38 / 210"
     ]
    },
    {
     "name": "stdout",
     "output_type": "stream",
     "text": [
      "\r39 / 210"
     ]
    },
    {
     "name": "stdout",
     "output_type": "stream",
     "text": [
      "\r40 / 210"
     ]
    },
    {
     "name": "stdout",
     "output_type": "stream",
     "text": [
      "\r41 / 210"
     ]
    },
    {
     "name": "stdout",
     "output_type": "stream",
     "text": [
      "\r42 / 210"
     ]
    },
    {
     "name": "stdout",
     "output_type": "stream",
     "text": [
      "\r43 / 210"
     ]
    },
    {
     "name": "stdout",
     "output_type": "stream",
     "text": [
      "\r44 / 210"
     ]
    },
    {
     "name": "stdout",
     "output_type": "stream",
     "text": [
      "\r45 / 210"
     ]
    },
    {
     "name": "stdout",
     "output_type": "stream",
     "text": [
      "\r46 / 210"
     ]
    },
    {
     "name": "stdout",
     "output_type": "stream",
     "text": [
      "\r47 / 210"
     ]
    },
    {
     "name": "stdout",
     "output_type": "stream",
     "text": [
      "\r48 / 210"
     ]
    },
    {
     "name": "stdout",
     "output_type": "stream",
     "text": [
      "\r49 / 210"
     ]
    },
    {
     "name": "stdout",
     "output_type": "stream",
     "text": [
      "\r50 / 210"
     ]
    },
    {
     "name": "stdout",
     "output_type": "stream",
     "text": [
      "\r51 / 210"
     ]
    },
    {
     "name": "stdout",
     "output_type": "stream",
     "text": [
      "\r52 / 210"
     ]
    },
    {
     "name": "stdout",
     "output_type": "stream",
     "text": [
      "\r53 / 210"
     ]
    },
    {
     "name": "stdout",
     "output_type": "stream",
     "text": [
      "\r54 / 210"
     ]
    },
    {
     "name": "stdout",
     "output_type": "stream",
     "text": [
      "\r55 / 210"
     ]
    },
    {
     "name": "stdout",
     "output_type": "stream",
     "text": [
      "\r56 / 210"
     ]
    },
    {
     "name": "stdout",
     "output_type": "stream",
     "text": [
      "\r57 / 210"
     ]
    },
    {
     "name": "stdout",
     "output_type": "stream",
     "text": [
      "\r58 / 210"
     ]
    },
    {
     "name": "stdout",
     "output_type": "stream",
     "text": [
      "\r59 / 210"
     ]
    },
    {
     "name": "stdout",
     "output_type": "stream",
     "text": [
      "\r60 / 210"
     ]
    },
    {
     "name": "stdout",
     "output_type": "stream",
     "text": [
      "\r61 / 210"
     ]
    },
    {
     "name": "stdout",
     "output_type": "stream",
     "text": [
      "\r62 / 210"
     ]
    },
    {
     "name": "stdout",
     "output_type": "stream",
     "text": [
      "\r63 / 210"
     ]
    },
    {
     "name": "stdout",
     "output_type": "stream",
     "text": [
      "\r64 / 210"
     ]
    },
    {
     "name": "stdout",
     "output_type": "stream",
     "text": [
      "\r65 / 210"
     ]
    },
    {
     "name": "stdout",
     "output_type": "stream",
     "text": [
      "\r66 / 210"
     ]
    },
    {
     "name": "stdout",
     "output_type": "stream",
     "text": [
      "\r67 / 210"
     ]
    },
    {
     "name": "stdout",
     "output_type": "stream",
     "text": [
      "\r68 / 210"
     ]
    },
    {
     "name": "stdout",
     "output_type": "stream",
     "text": [
      "\r69 / 210"
     ]
    },
    {
     "name": "stdout",
     "output_type": "stream",
     "text": [
      "\r70 / 210"
     ]
    },
    {
     "name": "stdout",
     "output_type": "stream",
     "text": [
      "\r71 / 210"
     ]
    },
    {
     "name": "stdout",
     "output_type": "stream",
     "text": [
      "\r72 / 210"
     ]
    },
    {
     "name": "stdout",
     "output_type": "stream",
     "text": [
      "\r73 / 210"
     ]
    },
    {
     "name": "stdout",
     "output_type": "stream",
     "text": [
      "\r74 / 210"
     ]
    },
    {
     "name": "stdout",
     "output_type": "stream",
     "text": [
      "\r75 / 210"
     ]
    },
    {
     "name": "stdout",
     "output_type": "stream",
     "text": [
      "\r76 / 210"
     ]
    },
    {
     "name": "stdout",
     "output_type": "stream",
     "text": [
      "\r77 / 210"
     ]
    },
    {
     "name": "stdout",
     "output_type": "stream",
     "text": [
      "\r78 / 210"
     ]
    },
    {
     "name": "stdout",
     "output_type": "stream",
     "text": [
      "\r79 / 210"
     ]
    },
    {
     "name": "stdout",
     "output_type": "stream",
     "text": [
      "\r80 / 210"
     ]
    },
    {
     "name": "stdout",
     "output_type": "stream",
     "text": [
      "\r81 / 210"
     ]
    },
    {
     "name": "stdout",
     "output_type": "stream",
     "text": [
      "\r82 / 210"
     ]
    },
    {
     "name": "stdout",
     "output_type": "stream",
     "text": [
      "\r83 / 210"
     ]
    },
    {
     "name": "stdout",
     "output_type": "stream",
     "text": [
      "\r84 / 210"
     ]
    },
    {
     "name": "stdout",
     "output_type": "stream",
     "text": [
      "\r85 / 210"
     ]
    },
    {
     "name": "stdout",
     "output_type": "stream",
     "text": [
      "\r86 / 210"
     ]
    },
    {
     "name": "stdout",
     "output_type": "stream",
     "text": [
      "\r87 / 210"
     ]
    },
    {
     "name": "stdout",
     "output_type": "stream",
     "text": [
      "\r88 / 210"
     ]
    },
    {
     "name": "stdout",
     "output_type": "stream",
     "text": [
      "\r89 / 210"
     ]
    },
    {
     "name": "stdout",
     "output_type": "stream",
     "text": [
      "\r90 / 210"
     ]
    },
    {
     "name": "stdout",
     "output_type": "stream",
     "text": [
      "\r91 / 210"
     ]
    },
    {
     "name": "stdout",
     "output_type": "stream",
     "text": [
      "\r92 / 210"
     ]
    },
    {
     "name": "stdout",
     "output_type": "stream",
     "text": [
      "\r93 / 210"
     ]
    },
    {
     "name": "stdout",
     "output_type": "stream",
     "text": [
      "\r94 / 210"
     ]
    },
    {
     "name": "stdout",
     "output_type": "stream",
     "text": [
      "\r95 / 210"
     ]
    },
    {
     "name": "stdout",
     "output_type": "stream",
     "text": [
      "\r96 / 210"
     ]
    },
    {
     "name": "stdout",
     "output_type": "stream",
     "text": [
      "\r97 / 210"
     ]
    },
    {
     "name": "stdout",
     "output_type": "stream",
     "text": [
      "\r98 / 210"
     ]
    },
    {
     "name": "stdout",
     "output_type": "stream",
     "text": [
      "\r99 / 210"
     ]
    },
    {
     "name": "stdout",
     "output_type": "stream",
     "text": [
      "\r100 / 210"
     ]
    },
    {
     "name": "stdout",
     "output_type": "stream",
     "text": [
      "\r101 / 210"
     ]
    },
    {
     "name": "stdout",
     "output_type": "stream",
     "text": [
      "\r102 / 210"
     ]
    },
    {
     "name": "stdout",
     "output_type": "stream",
     "text": [
      "\r103 / 210"
     ]
    },
    {
     "name": "stdout",
     "output_type": "stream",
     "text": [
      "\r104 / 210"
     ]
    },
    {
     "name": "stdout",
     "output_type": "stream",
     "text": [
      "\r105 / 210"
     ]
    },
    {
     "name": "stdout",
     "output_type": "stream",
     "text": [
      "\r106 / 210"
     ]
    },
    {
     "name": "stdout",
     "output_type": "stream",
     "text": [
      "\r107 / 210"
     ]
    },
    {
     "name": "stdout",
     "output_type": "stream",
     "text": [
      "\r108 / 210"
     ]
    },
    {
     "name": "stdout",
     "output_type": "stream",
     "text": [
      "\r109 / 210"
     ]
    },
    {
     "name": "stdout",
     "output_type": "stream",
     "text": [
      "\r110 / 210"
     ]
    },
    {
     "name": "stdout",
     "output_type": "stream",
     "text": [
      "\r111 / 210"
     ]
    },
    {
     "name": "stdout",
     "output_type": "stream",
     "text": [
      "\r112 / 210"
     ]
    },
    {
     "name": "stdout",
     "output_type": "stream",
     "text": [
      "\r113 / 210"
     ]
    },
    {
     "name": "stdout",
     "output_type": "stream",
     "text": [
      "\r114 / 210"
     ]
    },
    {
     "name": "stdout",
     "output_type": "stream",
     "text": [
      "\r115 / 210"
     ]
    },
    {
     "name": "stdout",
     "output_type": "stream",
     "text": [
      "\r116 / 210"
     ]
    },
    {
     "name": "stdout",
     "output_type": "stream",
     "text": [
      "\r117 / 210"
     ]
    },
    {
     "name": "stdout",
     "output_type": "stream",
     "text": [
      "\r118 / 210"
     ]
    },
    {
     "name": "stdout",
     "output_type": "stream",
     "text": [
      "\r119 / 210"
     ]
    },
    {
     "name": "stdout",
     "output_type": "stream",
     "text": [
      "\r120 / 210"
     ]
    },
    {
     "name": "stdout",
     "output_type": "stream",
     "text": [
      "\r121 / 210"
     ]
    },
    {
     "name": "stdout",
     "output_type": "stream",
     "text": [
      "\r122 / 210"
     ]
    },
    {
     "name": "stdout",
     "output_type": "stream",
     "text": [
      "\r123 / 210"
     ]
    },
    {
     "name": "stdout",
     "output_type": "stream",
     "text": [
      "\r124 / 210"
     ]
    },
    {
     "name": "stdout",
     "output_type": "stream",
     "text": [
      "\r125 / 210"
     ]
    },
    {
     "name": "stdout",
     "output_type": "stream",
     "text": [
      "\r126 / 210"
     ]
    },
    {
     "name": "stdout",
     "output_type": "stream",
     "text": [
      "\r127 / 210"
     ]
    },
    {
     "name": "stdout",
     "output_type": "stream",
     "text": [
      "\r128 / 210"
     ]
    },
    {
     "name": "stdout",
     "output_type": "stream",
     "text": [
      "\r129 / 210"
     ]
    },
    {
     "name": "stdout",
     "output_type": "stream",
     "text": [
      "\r130 / 210"
     ]
    },
    {
     "name": "stdout",
     "output_type": "stream",
     "text": [
      "\r131 / 210"
     ]
    },
    {
     "name": "stdout",
     "output_type": "stream",
     "text": [
      "\r132 / 210"
     ]
    },
    {
     "name": "stdout",
     "output_type": "stream",
     "text": [
      "\r133 / 210"
     ]
    },
    {
     "name": "stdout",
     "output_type": "stream",
     "text": [
      "\r134 / 210"
     ]
    },
    {
     "name": "stdout",
     "output_type": "stream",
     "text": [
      "\r135 / 210"
     ]
    },
    {
     "name": "stdout",
     "output_type": "stream",
     "text": [
      "\r136 / 210"
     ]
    },
    {
     "name": "stdout",
     "output_type": "stream",
     "text": [
      "\r137 / 210"
     ]
    },
    {
     "name": "stdout",
     "output_type": "stream",
     "text": [
      "\r138 / 210"
     ]
    },
    {
     "name": "stdout",
     "output_type": "stream",
     "text": [
      "\r139 / 210"
     ]
    },
    {
     "name": "stdout",
     "output_type": "stream",
     "text": [
      "\r140 / 210"
     ]
    },
    {
     "name": "stdout",
     "output_type": "stream",
     "text": [
      "\r141 / 210"
     ]
    },
    {
     "name": "stdout",
     "output_type": "stream",
     "text": [
      "\r142 / 210"
     ]
    },
    {
     "name": "stdout",
     "output_type": "stream",
     "text": [
      "\r143 / 210"
     ]
    },
    {
     "name": "stdout",
     "output_type": "stream",
     "text": [
      "\r144 / 210"
     ]
    },
    {
     "name": "stdout",
     "output_type": "stream",
     "text": [
      "\r145 / 210"
     ]
    },
    {
     "name": "stdout",
     "output_type": "stream",
     "text": [
      "\r146 / 210"
     ]
    },
    {
     "name": "stdout",
     "output_type": "stream",
     "text": [
      "\r147 / 210"
     ]
    },
    {
     "name": "stdout",
     "output_type": "stream",
     "text": [
      "\r148 / 210"
     ]
    },
    {
     "name": "stdout",
     "output_type": "stream",
     "text": [
      "\r149 / 210"
     ]
    },
    {
     "name": "stdout",
     "output_type": "stream",
     "text": [
      "\r150 / 210"
     ]
    },
    {
     "name": "stdout",
     "output_type": "stream",
     "text": [
      "\r151 / 210"
     ]
    },
    {
     "name": "stdout",
     "output_type": "stream",
     "text": [
      "\r152 / 210"
     ]
    },
    {
     "name": "stdout",
     "output_type": "stream",
     "text": [
      "\r153 / 210"
     ]
    },
    {
     "name": "stdout",
     "output_type": "stream",
     "text": [
      "\r154 / 210"
     ]
    },
    {
     "name": "stdout",
     "output_type": "stream",
     "text": [
      "\r155 / 210"
     ]
    },
    {
     "name": "stdout",
     "output_type": "stream",
     "text": [
      "\r156 / 210"
     ]
    },
    {
     "name": "stdout",
     "output_type": "stream",
     "text": [
      "\r157 / 210"
     ]
    },
    {
     "name": "stdout",
     "output_type": "stream",
     "text": [
      "\r158 / 210"
     ]
    },
    {
     "name": "stdout",
     "output_type": "stream",
     "text": [
      "\r159 / 210"
     ]
    },
    {
     "name": "stdout",
     "output_type": "stream",
     "text": [
      "\r160 / 210"
     ]
    },
    {
     "name": "stdout",
     "output_type": "stream",
     "text": [
      "\r161 / 210"
     ]
    },
    {
     "name": "stdout",
     "output_type": "stream",
     "text": [
      "\r162 / 210"
     ]
    },
    {
     "name": "stdout",
     "output_type": "stream",
     "text": [
      "\r163 / 210"
     ]
    },
    {
     "name": "stdout",
     "output_type": "stream",
     "text": [
      "\r164 / 210"
     ]
    },
    {
     "name": "stdout",
     "output_type": "stream",
     "text": [
      "\r165 / 210"
     ]
    },
    {
     "name": "stdout",
     "output_type": "stream",
     "text": [
      "\r166 / 210"
     ]
    },
    {
     "name": "stdout",
     "output_type": "stream",
     "text": [
      "\r167 / 210"
     ]
    },
    {
     "name": "stdout",
     "output_type": "stream",
     "text": [
      "\r168 / 210"
     ]
    },
    {
     "name": "stdout",
     "output_type": "stream",
     "text": [
      "\r169 / 210"
     ]
    },
    {
     "name": "stdout",
     "output_type": "stream",
     "text": [
      "\r170 / 210"
     ]
    },
    {
     "name": "stdout",
     "output_type": "stream",
     "text": [
      "\r171 / 210"
     ]
    },
    {
     "name": "stdout",
     "output_type": "stream",
     "text": [
      "\r172 / 210"
     ]
    },
    {
     "name": "stdout",
     "output_type": "stream",
     "text": [
      "\r173 / 210"
     ]
    },
    {
     "name": "stdout",
     "output_type": "stream",
     "text": [
      "\r174 / 210"
     ]
    },
    {
     "name": "stdout",
     "output_type": "stream",
     "text": [
      "\r175 / 210"
     ]
    },
    {
     "name": "stdout",
     "output_type": "stream",
     "text": [
      "\r176 / 210"
     ]
    },
    {
     "name": "stdout",
     "output_type": "stream",
     "text": [
      "\r177 / 210"
     ]
    },
    {
     "name": "stdout",
     "output_type": "stream",
     "text": [
      "\r178 / 210"
     ]
    },
    {
     "name": "stdout",
     "output_type": "stream",
     "text": [
      "\r179 / 210"
     ]
    },
    {
     "name": "stdout",
     "output_type": "stream",
     "text": [
      "\r180 / 210"
     ]
    },
    {
     "name": "stdout",
     "output_type": "stream",
     "text": [
      "\r181 / 210"
     ]
    },
    {
     "name": "stdout",
     "output_type": "stream",
     "text": [
      "\r182 / 210"
     ]
    },
    {
     "name": "stdout",
     "output_type": "stream",
     "text": [
      "\r183 / 210"
     ]
    },
    {
     "name": "stdout",
     "output_type": "stream",
     "text": [
      "\r184 / 210"
     ]
    },
    {
     "name": "stdout",
     "output_type": "stream",
     "text": [
      "\r185 / 210"
     ]
    },
    {
     "name": "stdout",
     "output_type": "stream",
     "text": [
      "\r186 / 210"
     ]
    },
    {
     "name": "stdout",
     "output_type": "stream",
     "text": [
      "\r187 / 210"
     ]
    },
    {
     "name": "stdout",
     "output_type": "stream",
     "text": [
      "\r188 / 210"
     ]
    },
    {
     "name": "stdout",
     "output_type": "stream",
     "text": [
      "\r189 / 210"
     ]
    },
    {
     "name": "stdout",
     "output_type": "stream",
     "text": [
      "\r190 / 210"
     ]
    },
    {
     "name": "stdout",
     "output_type": "stream",
     "text": [
      "\r191 / 210"
     ]
    },
    {
     "name": "stdout",
     "output_type": "stream",
     "text": [
      "\r192 / 210"
     ]
    },
    {
     "name": "stdout",
     "output_type": "stream",
     "text": [
      "\r193 / 210"
     ]
    },
    {
     "name": "stdout",
     "output_type": "stream",
     "text": [
      "\r194 / 210"
     ]
    },
    {
     "name": "stdout",
     "output_type": "stream",
     "text": [
      "\r195 / 210"
     ]
    },
    {
     "name": "stdout",
     "output_type": "stream",
     "text": [
      "\r196 / 210"
     ]
    },
    {
     "name": "stdout",
     "output_type": "stream",
     "text": [
      "\r197 / 210"
     ]
    },
    {
     "name": "stdout",
     "output_type": "stream",
     "text": [
      "\r198 / 210"
     ]
    },
    {
     "name": "stdout",
     "output_type": "stream",
     "text": [
      "\r199 / 210"
     ]
    },
    {
     "name": "stdout",
     "output_type": "stream",
     "text": [
      "\r200 / 210"
     ]
    },
    {
     "name": "stdout",
     "output_type": "stream",
     "text": [
      "\r201 / 210"
     ]
    },
    {
     "name": "stdout",
     "output_type": "stream",
     "text": [
      "\r202 / 210"
     ]
    },
    {
     "name": "stdout",
     "output_type": "stream",
     "text": [
      "\r203 / 210"
     ]
    },
    {
     "name": "stdout",
     "output_type": "stream",
     "text": [
      "\r204 / 210"
     ]
    },
    {
     "name": "stdout",
     "output_type": "stream",
     "text": [
      "\r205 / 210"
     ]
    },
    {
     "name": "stdout",
     "output_type": "stream",
     "text": [
      "\r206 / 210"
     ]
    },
    {
     "name": "stdout",
     "output_type": "stream",
     "text": [
      "\r207 / 210"
     ]
    },
    {
     "name": "stdout",
     "output_type": "stream",
     "text": [
      "\r208 / 210"
     ]
    },
    {
     "name": "stdout",
     "output_type": "stream",
     "text": [
      "\r209 / 210"
     ]
    },
    {
     "name": "stdout",
     "output_type": "stream",
     "text": [
      "\nvalid perplexity:  196.01494109724896\n"
     ]
    },
    {
     "ename": "ValueError",
     "evalue": "operands could not be broadcast together with shapes (20,2600) (10,2600) ",
     "traceback": [
      "\u001b[0;31m---------------------------------------------------------------------------\u001b[0m",
      "\u001b[0;31mValueError\u001b[0m                                Traceback (most recent call last)",
      "\u001b[0;32m<ipython-input-4-08e0814cd752>\u001b[0m in \u001b[0;36m<module>\u001b[0;34m()\u001b[0m\n\u001b[1;32m     32\u001b[0m \u001b[0mbest_ppl\u001b[0m \u001b[0;34m=\u001b[0m \u001b[0mfloat\u001b[0m\u001b[0;34m(\u001b[0m\u001b[0;34m'inf'\u001b[0m\u001b[0;34m)\u001b[0m\u001b[0;34m\u001b[0m\u001b[0m\n\u001b[1;32m     33\u001b[0m \u001b[0;32mfor\u001b[0m \u001b[0mepoch\u001b[0m \u001b[0;32min\u001b[0m \u001b[0mrange\u001b[0m\u001b[0;34m(\u001b[0m\u001b[0mmax_epoch\u001b[0m\u001b[0;34m)\u001b[0m\u001b[0;34m:\u001b[0m\u001b[0;34m\u001b[0m\u001b[0m\n\u001b[0;32m---> 34\u001b[0;31m     \u001b[0mtrainer\u001b[0m\u001b[0;34m.\u001b[0m\u001b[0mfit\u001b[0m\u001b[0;34m(\u001b[0m\u001b[0mxs\u001b[0m\u001b[0;34m,\u001b[0m \u001b[0mts\u001b[0m\u001b[0;34m,\u001b[0m \u001b[0mmax_epoch\u001b[0m\u001b[0;34m=\u001b[0m\u001b[0;36m1\u001b[0m\u001b[0;34m,\u001b[0m \u001b[0mbatch_size\u001b[0m\u001b[0;34m=\u001b[0m\u001b[0mbatch_size\u001b[0m\u001b[0;34m,\u001b[0m \u001b[0mtime_size\u001b[0m\u001b[0;34m=\u001b[0m\u001b[0mtime_size\u001b[0m\u001b[0;34m,\u001b[0m \u001b[0mmax_grad\u001b[0m\u001b[0;34m=\u001b[0m\u001b[0mmax_grad\u001b[0m\u001b[0;34m)\u001b[0m\u001b[0;34m\u001b[0m\u001b[0m\n\u001b[0m\u001b[1;32m     35\u001b[0m \u001b[0;34m\u001b[0m\u001b[0m\n\u001b[1;32m     36\u001b[0m     \u001b[0mmodel\u001b[0m\u001b[0;34m.\u001b[0m\u001b[0mreset_state\u001b[0m\u001b[0;34m(\u001b[0m\u001b[0;34m)\u001b[0m\u001b[0;34m\u001b[0m\u001b[0m\n",
      "\u001b[0;32m~/Documents/ゼロから作るDeepLearning2/deep-learning-from-scratch-2-master/common/trainer.py\u001b[0m in \u001b[0;36mfit\u001b[0;34m(self, xs, ts, max_epoch, batch_size, time_size, max_grad, eval_interval)\u001b[0m\n\u001b[1;32m    108\u001b[0m \u001b[0;34m\u001b[0m\u001b[0m\n\u001b[1;32m    109\u001b[0m                 \u001b[0;31m# 勾配を求め、パラメータを更新\u001b[0m\u001b[0;34m\u001b[0m\u001b[0;34m\u001b[0m\u001b[0m\n\u001b[0;32m--> 110\u001b[0;31m                 \u001b[0mloss\u001b[0m \u001b[0;34m=\u001b[0m \u001b[0mmodel\u001b[0m\u001b[0;34m.\u001b[0m\u001b[0mforward\u001b[0m\u001b[0;34m(\u001b[0m\u001b[0mbatch_x\u001b[0m\u001b[0;34m,\u001b[0m \u001b[0mbatch_t\u001b[0m\u001b[0;34m)\u001b[0m\u001b[0;34m\u001b[0m\u001b[0m\n\u001b[0m\u001b[1;32m    111\u001b[0m                 \u001b[0mmodel\u001b[0m\u001b[0;34m.\u001b[0m\u001b[0mbackward\u001b[0m\u001b[0;34m(\u001b[0m\u001b[0;34m)\u001b[0m\u001b[0;34m\u001b[0m\u001b[0m\n\u001b[1;32m    112\u001b[0m                 \u001b[0mparams\u001b[0m\u001b[0;34m,\u001b[0m \u001b[0mgrads\u001b[0m \u001b[0;34m=\u001b[0m \u001b[0mremove_duplicate\u001b[0m\u001b[0;34m(\u001b[0m\u001b[0mmodel\u001b[0m\u001b[0;34m.\u001b[0m\u001b[0mparams\u001b[0m\u001b[0;34m,\u001b[0m \u001b[0mmodel\u001b[0m\u001b[0;34m.\u001b[0m\u001b[0mgrads\u001b[0m\u001b[0;34m)\u001b[0m  \u001b[0;31m# 共有された重みを1つに集約\u001b[0m\u001b[0;34m\u001b[0m\u001b[0m\n",
      "\u001b[0;32m~/Documents/ゼロから作るDeepLearning2/deep-learning-from-scratch-2-master/ch06/better_rnnlm.py\u001b[0m in \u001b[0;36mforward\u001b[0;34m(self, xs, ts, train_flg)\u001b[0m\n\u001b[1;32m     57\u001b[0m \u001b[0;34m\u001b[0m\u001b[0m\n\u001b[1;32m     58\u001b[0m     \u001b[0;32mdef\u001b[0m \u001b[0mforward\u001b[0m\u001b[0;34m(\u001b[0m\u001b[0mself\u001b[0m\u001b[0;34m,\u001b[0m \u001b[0mxs\u001b[0m\u001b[0;34m,\u001b[0m \u001b[0mts\u001b[0m\u001b[0;34m,\u001b[0m \u001b[0mtrain_flg\u001b[0m\u001b[0;34m=\u001b[0m\u001b[0;32mTrue\u001b[0m\u001b[0;34m)\u001b[0m\u001b[0;34m:\u001b[0m\u001b[0;34m\u001b[0m\u001b[0m\n\u001b[0;32m---> 59\u001b[0;31m         \u001b[0mscore\u001b[0m \u001b[0;34m=\u001b[0m \u001b[0mself\u001b[0m\u001b[0;34m.\u001b[0m\u001b[0mpredict\u001b[0m\u001b[0;34m(\u001b[0m\u001b[0mxs\u001b[0m\u001b[0;34m,\u001b[0m \u001b[0mtrain_flg\u001b[0m\u001b[0;34m)\u001b[0m\u001b[0;34m\u001b[0m\u001b[0m\n\u001b[0m\u001b[1;32m     60\u001b[0m         \u001b[0mloss\u001b[0m \u001b[0;34m=\u001b[0m \u001b[0mself\u001b[0m\u001b[0;34m.\u001b[0m\u001b[0mloss_layer\u001b[0m\u001b[0;34m.\u001b[0m\u001b[0mforward\u001b[0m\u001b[0;34m(\u001b[0m\u001b[0mscore\u001b[0m\u001b[0;34m,\u001b[0m \u001b[0mts\u001b[0m\u001b[0;34m)\u001b[0m\u001b[0;34m\u001b[0m\u001b[0m\n\u001b[1;32m     61\u001b[0m         \u001b[0;32mreturn\u001b[0m \u001b[0mloss\u001b[0m\u001b[0;34m\u001b[0m\u001b[0m\n",
      "\u001b[0;32m~/Documents/ゼロから作るDeepLearning2/deep-learning-from-scratch-2-master/ch06/better_rnnlm.py\u001b[0m in \u001b[0;36mpredict\u001b[0;34m(self, xs, train_flg)\u001b[0m\n\u001b[1;32m     53\u001b[0m \u001b[0;34m\u001b[0m\u001b[0m\n\u001b[1;32m     54\u001b[0m         \u001b[0;32mfor\u001b[0m \u001b[0mlayer\u001b[0m \u001b[0;32min\u001b[0m \u001b[0mself\u001b[0m\u001b[0;34m.\u001b[0m\u001b[0mlayers\u001b[0m\u001b[0;34m:\u001b[0m\u001b[0;34m\u001b[0m\u001b[0m\n\u001b[0;32m---> 55\u001b[0;31m             \u001b[0mxs\u001b[0m \u001b[0;34m=\u001b[0m \u001b[0mlayer\u001b[0m\u001b[0;34m.\u001b[0m\u001b[0mforward\u001b[0m\u001b[0;34m(\u001b[0m\u001b[0mxs\u001b[0m\u001b[0;34m)\u001b[0m\u001b[0;34m\u001b[0m\u001b[0m\n\u001b[0m\u001b[1;32m     56\u001b[0m         \u001b[0;32mreturn\u001b[0m \u001b[0mxs\u001b[0m\u001b[0;34m\u001b[0m\u001b[0m\n\u001b[1;32m     57\u001b[0m \u001b[0;34m\u001b[0m\u001b[0m\n",
      "\u001b[0;32m~/Documents/ゼロから作るDeepLearning2/deep-learning-from-scratch-2-master/common/time_layers.py\u001b[0m in \u001b[0;36mforward\u001b[0;34m(self, xs)\u001b[0m\n\u001b[1;32m    191\u001b[0m         \u001b[0;32mfor\u001b[0m \u001b[0mt\u001b[0m \u001b[0;32min\u001b[0m \u001b[0mrange\u001b[0m\u001b[0;34m(\u001b[0m\u001b[0mT\u001b[0m\u001b[0;34m)\u001b[0m\u001b[0;34m:\u001b[0m\u001b[0;34m\u001b[0m\u001b[0m\n\u001b[1;32m    192\u001b[0m             \u001b[0mlayer\u001b[0m \u001b[0;34m=\u001b[0m \u001b[0mLSTM\u001b[0m\u001b[0;34m(\u001b[0m\u001b[0;34m*\u001b[0m\u001b[0mself\u001b[0m\u001b[0;34m.\u001b[0m\u001b[0mparams\u001b[0m\u001b[0;34m)\u001b[0m\u001b[0;34m\u001b[0m\u001b[0m\n\u001b[0;32m--> 193\u001b[0;31m             \u001b[0mself\u001b[0m\u001b[0;34m.\u001b[0m\u001b[0mh\u001b[0m\u001b[0;34m,\u001b[0m \u001b[0mself\u001b[0m\u001b[0;34m.\u001b[0m\u001b[0mc\u001b[0m \u001b[0;34m=\u001b[0m \u001b[0mlayer\u001b[0m\u001b[0;34m.\u001b[0m\u001b[0mforward\u001b[0m\u001b[0;34m(\u001b[0m\u001b[0mxs\u001b[0m\u001b[0;34m[\u001b[0m\u001b[0;34m:\u001b[0m\u001b[0;34m,\u001b[0m \u001b[0mt\u001b[0m\u001b[0;34m,\u001b[0m \u001b[0;34m:\u001b[0m\u001b[0;34m]\u001b[0m\u001b[0;34m,\u001b[0m \u001b[0mself\u001b[0m\u001b[0;34m.\u001b[0m\u001b[0mh\u001b[0m\u001b[0;34m,\u001b[0m \u001b[0mself\u001b[0m\u001b[0;34m.\u001b[0m\u001b[0mc\u001b[0m\u001b[0;34m)\u001b[0m\u001b[0;34m\u001b[0m\u001b[0m\n\u001b[0m\u001b[1;32m    194\u001b[0m             \u001b[0mhs\u001b[0m\u001b[0;34m[\u001b[0m\u001b[0;34m:\u001b[0m\u001b[0;34m,\u001b[0m \u001b[0mt\u001b[0m\u001b[0;34m,\u001b[0m \u001b[0;34m:\u001b[0m\u001b[0;34m]\u001b[0m \u001b[0;34m=\u001b[0m \u001b[0mself\u001b[0m\u001b[0;34m.\u001b[0m\u001b[0mh\u001b[0m\u001b[0;34m\u001b[0m\u001b[0m\n\u001b[1;32m    195\u001b[0m \u001b[0;34m\u001b[0m\u001b[0m\n",
      "\u001b[0;32m~/Documents/ゼロから作るDeepLearning2/deep-learning-from-scratch-2-master/common/time_layers.py\u001b[0m in \u001b[0;36mforward\u001b[0;34m(self, x, h_prev, c_prev)\u001b[0m\n\u001b[1;32m    112\u001b[0m         \u001b[0mN\u001b[0m\u001b[0;34m,\u001b[0m \u001b[0mH\u001b[0m \u001b[0;34m=\u001b[0m \u001b[0mh_prev\u001b[0m\u001b[0;34m.\u001b[0m\u001b[0mshape\u001b[0m\u001b[0;34m\u001b[0m\u001b[0m\n\u001b[1;32m    113\u001b[0m \u001b[0;34m\u001b[0m\u001b[0m\n\u001b[0;32m--> 114\u001b[0;31m         \u001b[0mA\u001b[0m \u001b[0;34m=\u001b[0m \u001b[0mnp\u001b[0m\u001b[0;34m.\u001b[0m\u001b[0mdot\u001b[0m\u001b[0;34m(\u001b[0m\u001b[0mx\u001b[0m\u001b[0;34m,\u001b[0m \u001b[0mWx\u001b[0m\u001b[0;34m)\u001b[0m \u001b[0;34m+\u001b[0m \u001b[0mnp\u001b[0m\u001b[0;34m.\u001b[0m\u001b[0mdot\u001b[0m\u001b[0;34m(\u001b[0m\u001b[0mh_prev\u001b[0m\u001b[0;34m,\u001b[0m \u001b[0mWh\u001b[0m\u001b[0;34m)\u001b[0m \u001b[0;34m+\u001b[0m \u001b[0mb\u001b[0m\u001b[0;34m\u001b[0m\u001b[0m\n\u001b[0m\u001b[1;32m    115\u001b[0m \u001b[0;34m\u001b[0m\u001b[0m\n\u001b[1;32m    116\u001b[0m         \u001b[0mf\u001b[0m \u001b[0;34m=\u001b[0m \u001b[0mA\u001b[0m\u001b[0;34m[\u001b[0m\u001b[0;34m:\u001b[0m\u001b[0;34m,\u001b[0m \u001b[0;34m:\u001b[0m\u001b[0mH\u001b[0m\u001b[0;34m]\u001b[0m\u001b[0;34m\u001b[0m\u001b[0m\n",
      "\u001b[0;31mValueError\u001b[0m: operands could not be broadcast together with shapes (20,2600) (10,2600) "
     ],
     "output_type": "error"
    }
   ],
   "source": [
    "import sys\n",
    "sys.path.append('..')\n",
    "from common import config\n",
    "config.GPU = True\n",
    "from common.optimizer import SGD\n",
    "from common.trainer import RnnlmTrainer\n",
    "from common.util import eval_perplexity\n",
    "from dataset import ptb\n",
    "from ch06.better_rnnlm import BetterRnnlm\n",
    "\n",
    "batch_size = 20\n",
    "wordvec_size = 650\n",
    "hidden_size = 650\n",
    "time_size = 35\n",
    "lr = 20.0\n",
    "max_epoch = 40\n",
    "max_grad = 0.25\n",
    "dropout = 0.5\n",
    "\n",
    "corpus, word_to_id, id_to_word = ptb.load_data('train')\n",
    "corpus_val, _, _ = ptb.load_data('val')\n",
    "corpus_test, _, _ = ptb.load_data('test')\n",
    "\n",
    "vocab_size = len(word_to_id)\n",
    "xs = corpus[:-1]\n",
    "ts = corpus[1:]\n",
    "\n",
    "model = BetterRnnlm(vocab_size, wordvec_size, hidden_size, dropout)\n",
    "optimizer = SGD(lr)\n",
    "trainer = RnnlmTrainer(model, optimizer)\n",
    "\n",
    "best_ppl = float('inf')\n",
    "for epoch in range(max_epoch):\n",
    "    trainer.fit(xs, ts, max_epoch=1, batch_size=batch_size, time_size=time_size, max_grad=max_grad)\n",
    "    \n",
    "    model.reset_state()\n",
    "    ppl = eval_perplexity(model, corpus_val)\n",
    "    print('valid perplexity: ', ppl)\n",
    "    \n",
    "    if best_ppl > ppl:\n",
    "        best_ppl = ppl\n",
    "        model.save_params()\n",
    "    else:\n",
    "        lr /= 4.0\n",
    "        optimizer.lr = lr\n",
    "        model.reset_state()\n",
    "        print('-' * 50)\n"
   ]
  },
  {
   "cell_type": "code",
   "execution_count": 2,
   "metadata": {},
   "outputs": [
    {
     "ename": "ModuleNotFoundError",
     "evalue": "No module named 'cupy'",
     "traceback": [
      "\u001b[0;31m---------------------------------------------------------------------------\u001b[0m",
      "\u001b[0;31mModuleNotFoundError\u001b[0m                       Traceback (most recent call last)",
      "\u001b[0;32m<ipython-input-2-33f7dacc2522>\u001b[0m in \u001b[0;36m<module>\u001b[0;34m()\u001b[0m\n\u001b[1;32m      7\u001b[0m \u001b[0mconfig\u001b[0m\u001b[0;34m.\u001b[0m\u001b[0mGPU\u001b[0m \u001b[0;34m=\u001b[0m \u001b[0;32mTrue\u001b[0m\u001b[0;34m\u001b[0m\u001b[0m\n\u001b[1;32m      8\u001b[0m \u001b[0;31m# ==============================================\u001b[0m\u001b[0;34m\u001b[0m\u001b[0;34m\u001b[0m\u001b[0m\n\u001b[0;32m----> 9\u001b[0;31m \u001b[0;32mfrom\u001b[0m \u001b[0mcommon\u001b[0m\u001b[0;34m.\u001b[0m\u001b[0moptimizer\u001b[0m \u001b[0;32mimport\u001b[0m \u001b[0mSGD\u001b[0m\u001b[0;34m\u001b[0m\u001b[0m\n\u001b[0m\u001b[1;32m     10\u001b[0m \u001b[0;32mfrom\u001b[0m \u001b[0mcommon\u001b[0m\u001b[0;34m.\u001b[0m\u001b[0mtrainer\u001b[0m \u001b[0;32mimport\u001b[0m \u001b[0mRnnlmTrainer\u001b[0m\u001b[0;34m\u001b[0m\u001b[0m\n\u001b[1;32m     11\u001b[0m \u001b[0;32mfrom\u001b[0m \u001b[0mcommon\u001b[0m\u001b[0;34m.\u001b[0m\u001b[0mutil\u001b[0m \u001b[0;32mimport\u001b[0m \u001b[0meval_perplexity\u001b[0m\u001b[0;34m,\u001b[0m \u001b[0mto_gpu\u001b[0m\u001b[0;34m\u001b[0m\u001b[0m\n",
      "\u001b[0;32m~/Documents/ゼロから作るDeepLearning2/deep-learning-from-scratch-2-master/common/optimizer.py\u001b[0m in \u001b[0;36m<module>\u001b[0;34m()\u001b[0m\n\u001b[1;32m      2\u001b[0m \u001b[0;32mimport\u001b[0m \u001b[0msys\u001b[0m\u001b[0;34m\u001b[0m\u001b[0m\n\u001b[1;32m      3\u001b[0m \u001b[0msys\u001b[0m\u001b[0;34m.\u001b[0m\u001b[0mpath\u001b[0m\u001b[0;34m.\u001b[0m\u001b[0mappend\u001b[0m\u001b[0;34m(\u001b[0m\u001b[0;34m'..'\u001b[0m\u001b[0;34m)\u001b[0m\u001b[0;34m\u001b[0m\u001b[0m\n\u001b[0;32m----> 4\u001b[0;31m \u001b[0;32mfrom\u001b[0m \u001b[0mcommon\u001b[0m\u001b[0;34m.\u001b[0m\u001b[0mnp\u001b[0m \u001b[0;32mimport\u001b[0m \u001b[0;34m*\u001b[0m\u001b[0;34m\u001b[0m\u001b[0m\n\u001b[0m\u001b[1;32m      5\u001b[0m \u001b[0;34m\u001b[0m\u001b[0m\n\u001b[1;32m      6\u001b[0m \u001b[0;34m\u001b[0m\u001b[0m\n",
      "\u001b[0;32m~/Documents/ゼロから作るDeepLearning2/deep-learning-from-scratch-2-master/common/np.py\u001b[0m in \u001b[0;36m<module>\u001b[0;34m()\u001b[0m\n\u001b[1;32m      4\u001b[0m \u001b[0;34m\u001b[0m\u001b[0m\n\u001b[1;32m      5\u001b[0m \u001b[0;32mif\u001b[0m \u001b[0mGPU\u001b[0m\u001b[0;34m:\u001b[0m\u001b[0;34m\u001b[0m\u001b[0m\n\u001b[0;32m----> 6\u001b[0;31m     \u001b[0;32mimport\u001b[0m \u001b[0mcupy\u001b[0m \u001b[0;32mas\u001b[0m \u001b[0mnp\u001b[0m\u001b[0;34m\u001b[0m\u001b[0m\n\u001b[0m\u001b[1;32m      7\u001b[0m     \u001b[0mnp\u001b[0m\u001b[0;34m.\u001b[0m\u001b[0mcuda\u001b[0m\u001b[0;34m.\u001b[0m\u001b[0mset_allocator\u001b[0m\u001b[0;34m(\u001b[0m\u001b[0mnp\u001b[0m\u001b[0;34m.\u001b[0m\u001b[0mcuda\u001b[0m\u001b[0;34m.\u001b[0m\u001b[0mMemoryPool\u001b[0m\u001b[0;34m(\u001b[0m\u001b[0;34m)\u001b[0m\u001b[0;34m.\u001b[0m\u001b[0mmalloc\u001b[0m\u001b[0;34m)\u001b[0m\u001b[0;34m\u001b[0m\u001b[0m\n\u001b[1;32m      8\u001b[0m     \u001b[0mnp\u001b[0m\u001b[0;34m.\u001b[0m\u001b[0madd\u001b[0m\u001b[0;34m.\u001b[0m\u001b[0mat\u001b[0m \u001b[0;34m=\u001b[0m \u001b[0mnp\u001b[0m\u001b[0;34m.\u001b[0m\u001b[0mscatter_add\u001b[0m\u001b[0;34m\u001b[0m\u001b[0m\n",
      "\u001b[0;31mModuleNotFoundError\u001b[0m: No module named 'cupy'"
     ],
     "output_type": "error"
    }
   ],
   "source": [
    "# coding: utf-8\n",
    "import sys\n",
    "sys.path.append('..')\n",
    "from common import config\n",
    "# GPUで実行する場合は下記のコメントアウトを消去（要cupy）\n",
    "# ==============================================\n",
    "config.GPU = True\n",
    "# ==============================================\n",
    "from common.optimizer import SGD\n",
    "from common.trainer import RnnlmTrainer\n",
    "from common.util import eval_perplexity, to_gpu\n",
    "from dataset import ptb\n",
    "from ch06.better_rnnlm import BetterRnnlm\n",
    "\n",
    "\n",
    "# ハイパーパラメータの設定\n",
    "batch_size = 20\n",
    "wordvec_size = 650\n",
    "hidden_size = 650\n",
    "time_size = 35\n",
    "lr = 20.0\n",
    "max_epoch = 40\n",
    "max_grad = 0.25\n",
    "dropout = 0.5\n",
    "\n",
    "# 学習データの読み込み\n",
    "corpus, word_to_id, id_to_word = ptb.load_data('train')\n",
    "corpus_val, _, _ = ptb.load_data('val')\n",
    "corpus_test, _, _ = ptb.load_data('test')\n",
    "\n",
    "if config.GPU:\n",
    "    corpus = to_gpu(corpus)\n",
    "    corpus_val = to_gpu(corpus_val)\n",
    "    corpus_test = to_gpu(corpus_test)\n",
    "\n",
    "vocab_size = len(word_to_id)\n",
    "xs = corpus[:-1]\n",
    "ts = corpus[1:]\n",
    "\n",
    "model = BetterRnnlm(vocab_size, wordvec_size, hidden_size, dropout)\n",
    "optimizer = SGD(lr)\n",
    "trainer = RnnlmTrainer(model, optimizer)\n",
    "\n",
    "best_ppl = float('inf')\n",
    "for epoch in range(max_epoch):\n",
    "    trainer.fit(xs, ts, max_epoch=1, batch_size=batch_size,\n",
    "                time_size=time_size, max_grad=max_grad)\n",
    "\n",
    "    model.reset_state()\n",
    "    ppl = eval_perplexity(model, corpus_val)\n",
    "    print('valid perplexity: ', ppl)\n",
    "\n",
    "    if best_ppl > ppl:\n",
    "        best_ppl = ppl\n",
    "        model.save_params()\n",
    "    else:\n",
    "        lr /= 4.0\n",
    "        optimizer.lr = lr\n",
    "\n",
    "    model.reset_state()\n",
    "    print('-' * 50)\n",
    "\n",
    "\n",
    "# テストデータでの評価\n",
    "model.reset_state()\n",
    "ppl_test = eval_perplexity(model, corpus_test)\n",
    "print('test perplexity: ', ppl_test)\n"
   ]
  },
  {
   "cell_type": "code",
   "execution_count": 1,
   "metadata": {},
   "outputs": [],
   "source": []
  },
  {
   "cell_type": "code",
   "execution_count": 1,
   "metadata": {},
   "outputs": [],
   "source": []
  },
  {
   "cell_type": "code",
   "execution_count": 1,
   "metadata": {},
   "outputs": [],
   "source": []
  },
  {
   "cell_type": "code",
   "execution_count": null,
   "metadata": {},
   "outputs": [],
   "source": []
  }
 ],
 "metadata": {
  "kernelspec": {
   "display_name": "Python 2",
   "language": "python",
   "name": "python2"
  },
  "language_info": {
   "codemirror_mode": {
    "name": "ipython",
    "version": 2
   },
   "file_extension": ".py",
   "mimetype": "text/x-python",
   "name": "python",
   "nbconvert_exporter": "python",
   "pygments_lexer": "ipython2",
   "version": "2.7.6"
  }
 },
 "nbformat": 4,
 "nbformat_minor": 0
}
